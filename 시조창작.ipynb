{
  "nbformat": 4,
  "nbformat_minor": 0,
  "metadata": {
    "colab": {
      "name": "GPT3.ipynb의 사본",
      "provenance": [],
      "include_colab_link": true
    },
    "kernelspec": {
      "name": "python3",
      "display_name": "Python 3"
    },
    "accelerator": "GPU"
  },
  "cells": [
    {
      "cell_type": "markdown",
      "metadata": {
        "id": "view-in-github",
        "colab_type": "text"
      },
      "source": [
        "<a href=\"https://colab.research.google.com/github/gimkuku/GPT3-colab/blob/main/%EC%8B%9C%EC%A1%B0%EC%B0%BD%EC%9E%91.ipynb\" target=\"_parent\"><img src=\"https://colab.research.google.com/assets/colab-badge.svg\" alt=\"Open In Colab\"/></a>"
      ]
    },
    {
      "cell_type": "code",
      "metadata": {
        "colab": {
          "base_uri": "https://localhost:8080/"
        },
        "id": "dKKa2ZMeCFp1",
        "outputId": "acb37c04-0fd1-4509-8284-c14edef64b82"
      },
      "source": [
        "!pip install openai"
      ],
      "execution_count": null,
      "outputs": [
        {
          "output_type": "stream",
          "text": [
            "Collecting openai\n",
            "\u001b[?25l  Downloading https://files.pythonhosted.org/packages/51/91/070425a1983c1a73b9a6186b28ac06ae87e619fff05257e4ae9b8078f26f/openai-0.3.0.tar.gz (157kB)\n",
            "\r\u001b[K     |██                              | 10kB 23.9MB/s eta 0:00:01\r\u001b[K     |████▏                           | 20kB 31.2MB/s eta 0:00:01\r\u001b[K     |██████▎                         | 30kB 27.4MB/s eta 0:00:01\r\u001b[K     |████████▎                       | 40kB 30.8MB/s eta 0:00:01\r\u001b[K     |██████████▍                     | 51kB 28.6MB/s eta 0:00:01\r\u001b[K     |████████████▌                   | 61kB 31.4MB/s eta 0:00:01\r\u001b[K     |██████████████▌                 | 71kB 19.7MB/s eta 0:00:01\r\u001b[K     |████████████████▋               | 81kB 21.2MB/s eta 0:00:01\r\u001b[K     |██████████████████▊             | 92kB 19.3MB/s eta 0:00:01\r\u001b[K     |████████████████████▊           | 102kB 19.5MB/s eta 0:00:01\r\u001b[K     |██████████████████████▉         | 112kB 19.5MB/s eta 0:00:01\r\u001b[K     |█████████████████████████       | 122kB 19.5MB/s eta 0:00:01\r\u001b[K     |███████████████████████████     | 133kB 19.5MB/s eta 0:00:01\r\u001b[K     |█████████████████████████████   | 143kB 19.5MB/s eta 0:00:01\r\u001b[K     |███████████████████████████████▏| 153kB 19.5MB/s eta 0:00:01\r\u001b[K     |████████████████████████████████| 163kB 19.5MB/s \n",
            "\u001b[?25hRequirement already satisfied: requests>=2.20 in /usr/local/lib/python3.6/dist-packages (from openai) (2.23.0)\n",
            "Requirement already satisfied: urllib3!=1.25.0,!=1.25.1,<1.26,>=1.21.1 in /usr/local/lib/python3.6/dist-packages (from requests>=2.20->openai) (1.24.3)\n",
            "Requirement already satisfied: idna<3,>=2.5 in /usr/local/lib/python3.6/dist-packages (from requests>=2.20->openai) (2.10)\n",
            "Requirement already satisfied: certifi>=2017.4.17 in /usr/local/lib/python3.6/dist-packages (from requests>=2.20->openai) (2020.12.5)\n",
            "Requirement already satisfied: chardet<4,>=3.0.2 in /usr/local/lib/python3.6/dist-packages (from requests>=2.20->openai) (3.0.4)\n",
            "Building wheels for collected packages: openai\n",
            "  Building wheel for openai (setup.py) ... \u001b[?25l\u001b[?25hdone\n",
            "  Created wheel for openai: filename=openai-0.3.0-cp36-none-any.whl size=171252 sha256=9998bf7e4fbeaffab62d706a894292d6939308be334e4dec9cbed00df9630171\n",
            "  Stored in directory: /root/.cache/pip/wheels/4c/75/b3/519250ae7ef404a76542edfbb7a290c78ebb314c5b8924f541\n",
            "Successfully built openai\n",
            "Installing collected packages: openai\n",
            "Successfully installed openai-0.3.0\n"
          ],
          "name": "stdout"
        }
      ]
    },
    {
      "cell_type": "code",
      "metadata": {
        "colab": {
          "base_uri": "https://localhost:8080/"
        },
        "id": "2QRw2rcTh_7Y",
        "outputId": "38d4cb7b-a739-423f-e257-72a312c885ad"
      },
      "source": [
        "!sudo apt-get install -y fonts-nanum\r\n",
        "!sudo fc-cache -fv\r\n",
        "!rm ~/.cache/matplotlib -rf"
      ],
      "execution_count": null,
      "outputs": [
        {
          "output_type": "stream",
          "text": [
            "Reading package lists... Done\n",
            "Building dependency tree       \n",
            "Reading state information... Done\n",
            "The following NEW packages will be installed:\n",
            "  fonts-nanum\n",
            "0 upgraded, 1 newly installed, 0 to remove and 15 not upgraded.\n",
            "Need to get 9,604 kB of archives.\n",
            "After this operation, 29.5 MB of additional disk space will be used.\n",
            "Get:1 http://archive.ubuntu.com/ubuntu bionic/universe amd64 fonts-nanum all 20170925-1 [9,604 kB]\n",
            "Fetched 9,604 kB in 2s (5,228 kB/s)\n",
            "debconf: unable to initialize frontend: Dialog\n",
            "debconf: (No usable dialog-like program is installed, so the dialog based frontend cannot be used. at /usr/share/perl5/Debconf/FrontEnd/Dialog.pm line 76, <> line 1.)\n",
            "debconf: falling back to frontend: Readline\n",
            "debconf: unable to initialize frontend: Readline\n",
            "debconf: (This frontend requires a controlling tty.)\n",
            "debconf: falling back to frontend: Teletype\n",
            "dpkg-preconfigure: unable to re-open stdin: \n",
            "Selecting previously unselected package fonts-nanum.\n",
            "(Reading database ... 146442 files and directories currently installed.)\n",
            "Preparing to unpack .../fonts-nanum_20170925-1_all.deb ...\n",
            "Unpacking fonts-nanum (20170925-1) ...\n",
            "Setting up fonts-nanum (20170925-1) ...\n",
            "Processing triggers for fontconfig (2.12.6-0ubuntu2) ...\n",
            "/usr/share/fonts: caching, new cache contents: 0 fonts, 1 dirs\n",
            "/usr/share/fonts/truetype: caching, new cache contents: 0 fonts, 3 dirs\n",
            "/usr/share/fonts/truetype/humor-sans: caching, new cache contents: 1 fonts, 0 dirs\n",
            "/usr/share/fonts/truetype/liberation: caching, new cache contents: 16 fonts, 0 dirs\n",
            "/usr/share/fonts/truetype/nanum: caching, new cache contents: 10 fonts, 0 dirs\n",
            "/usr/local/share/fonts: caching, new cache contents: 0 fonts, 0 dirs\n",
            "/root/.local/share/fonts: skipping, no such directory\n",
            "/root/.fonts: skipping, no such directory\n",
            "/var/cache/fontconfig: cleaning cache directory\n",
            "/root/.cache/fontconfig: not cleaning non-existent cache directory\n",
            "/root/.fontconfig: not cleaning non-existent cache directory\n",
            "fc-cache: succeeded\n"
          ],
          "name": "stdout"
        }
      ]
    },
    {
      "cell_type": "code",
      "metadata": {
        "id": "RMvIhur-iH8q"
      },
      "source": [
        "import matplotlib.pyplot as plt\r\n",
        "\r\n",
        "plt.rc('font', family='NanumBarunGothic')"
      ],
      "execution_count": null,
      "outputs": []
    },
    {
      "cell_type": "code",
      "metadata": {
        "id": "aJ0zo2j-CH7k"
      },
      "source": [
        "import json\r\n",
        "import openai"
      ],
      "execution_count": null,
      "outputs": []
    },
    {
      "cell_type": "code",
      "metadata": {
        "id": "6LsGdISjCH-U"
      },
      "source": [
        "openai.api_key = \"sk-KWKlUMAaKpOhNvURPkHFXRiFzgpz9h2MVauInzVN\"\r\n",
        "response = openai.Completion.create(engine=\"davinci\", prompt=\"This is a test\", max_tokens=5)"
      ],
      "execution_count": null,
      "outputs": []
    },
    {
      "cell_type": "code",
      "metadata": {
        "colab": {
          "base_uri": "https://localhost:8080/"
        },
        "id": "1Sitf8mRCICf",
        "outputId": "c6d81663-4288-4b78-f3db-e0f2132abd31"
      },
      "source": [
        "!git clone https://github.com/shreyashankar/gpt3-sandbox.git"
      ],
      "execution_count": null,
      "outputs": [
        {
          "output_type": "stream",
          "text": [
            "Cloning into 'gpt3-sandbox'...\n",
            "remote: Enumerating objects: 36, done.\u001b[K\n",
            "remote: Counting objects: 100% (36/36), done.\u001b[K\n",
            "remote: Compressing objects: 100% (33/33), done.\u001b[K\n",
            "remote: Total 2389 (delta 16), reused 8 (delta 3), pack-reused 2353\u001b[K\n",
            "Receiving objects: 100% (2389/2389), 5.45 MiB | 24.04 MiB/s, done.\n",
            "Resolving deltas: 100% (649/649), done.\n"
          ],
          "name": "stdout"
        }
      ]
    },
    {
      "cell_type": "code",
      "metadata": {
        "colab": {
          "base_uri": "https://localhost:8080/"
        },
        "id": "SOZhLtd4CII-",
        "outputId": "2e32621d-9ac7-4c15-8de7-9d8453b2d0cf"
      },
      "source": [
        "cd gpt3-sandbox"
      ],
      "execution_count": null,
      "outputs": [
        {
          "output_type": "stream",
          "text": [
            "/content/gpt3-sandbox\n"
          ],
          "name": "stdout"
        }
      ]
    },
    {
      "cell_type": "code",
      "metadata": {
        "colab": {
          "base_uri": "https://localhost:8080/",
          "height": 1000
        },
        "id": "sEcjFHtGDK0Q",
        "outputId": "4fca9839-50df-444a-e82e-0135e7a52b07"
      },
      "source": [
        "!pip install -r api/requirements.txt"
      ],
      "execution_count": null,
      "outputs": [
        {
          "output_type": "stream",
          "text": [
            "Collecting astroid==2.4.2\n",
            "\u001b[?25l  Downloading https://files.pythonhosted.org/packages/24/a8/5133f51967fb21e46ee50831c3f5dda49e976b7f915408d670b1603d41d6/astroid-2.4.2-py3-none-any.whl (213kB)\n",
            "\r\u001b[K     |█▌                              | 10kB 22.8MB/s eta 0:00:01\r\u001b[K     |███                             | 20kB 27.9MB/s eta 0:00:01\r\u001b[K     |████▋                           | 30kB 22.1MB/s eta 0:00:01\r\u001b[K     |██████▏                         | 40kB 20.9MB/s eta 0:00:01\r\u001b[K     |███████▋                        | 51kB 18.8MB/s eta 0:00:01\r\u001b[K     |█████████▏                      | 61kB 15.3MB/s eta 0:00:01\r\u001b[K     |██████████▊                     | 71kB 16.0MB/s eta 0:00:01\r\u001b[K     |████████████▎                   | 81kB 16.1MB/s eta 0:00:01\r\u001b[K     |█████████████▉                  | 92kB 15.4MB/s eta 0:00:01\r\u001b[K     |███████████████▎                | 102kB 15.0MB/s eta 0:00:01\r\u001b[K     |████████████████▉               | 112kB 15.0MB/s eta 0:00:01\r\u001b[K     |██████████████████▍             | 122kB 15.0MB/s eta 0:00:01\r\u001b[K     |████████████████████            | 133kB 15.0MB/s eta 0:00:01\r\u001b[K     |█████████████████████▍          | 143kB 15.0MB/s eta 0:00:01\r\u001b[K     |███████████████████████         | 153kB 15.0MB/s eta 0:00:01\r\u001b[K     |████████████████████████▌       | 163kB 15.0MB/s eta 0:00:01\r\u001b[K     |██████████████████████████      | 174kB 15.0MB/s eta 0:00:01\r\u001b[K     |███████████████████████████▋    | 184kB 15.0MB/s eta 0:00:01\r\u001b[K     |█████████████████████████████   | 194kB 15.0MB/s eta 0:00:01\r\u001b[K     |██████████████████████████████▋ | 204kB 15.0MB/s eta 0:00:01\r\u001b[K     |████████████████████████████████| 215kB 15.0MB/s \n",
            "\u001b[?25hCollecting certifi==2020.6.20\n",
            "\u001b[?25l  Downloading https://files.pythonhosted.org/packages/5e/c4/6c4fe722df5343c33226f0b4e0bb042e4dc13483228b4718baf286f86d87/certifi-2020.6.20-py2.py3-none-any.whl (156kB)\n",
            "\r\u001b[K     |██                              | 10kB 34.0MB/s eta 0:00:01\r\u001b[K     |████▏                           | 20kB 43.5MB/s eta 0:00:01\r\u001b[K     |██████▎                         | 30kB 51.1MB/s eta 0:00:01\r\u001b[K     |████████▍                       | 40kB 55.4MB/s eta 0:00:01\r\u001b[K     |██████████▌                     | 51kB 46.0MB/s eta 0:00:01\r\u001b[K     |████████████▋                   | 61kB 47.9MB/s eta 0:00:01\r\u001b[K     |██████████████▋                 | 71kB 49.0MB/s eta 0:00:01\r\u001b[K     |████████████████▊               | 81kB 50.9MB/s eta 0:00:01\r\u001b[K     |██████████████████▉             | 92kB 52.7MB/s eta 0:00:01\r\u001b[K     |█████████████████████           | 102kB 41.9MB/s eta 0:00:01\r\u001b[K     |███████████████████████         | 112kB 41.9MB/s eta 0:00:01\r\u001b[K     |█████████████████████████▏      | 122kB 41.9MB/s eta 0:00:01\r\u001b[K     |███████████████████████████▏    | 133kB 41.9MB/s eta 0:00:01\r\u001b[K     |█████████████████████████████▎  | 143kB 41.9MB/s eta 0:00:01\r\u001b[K     |███████████████████████████████▍| 153kB 41.9MB/s eta 0:00:01\r\u001b[K     |████████████████████████████████| 163kB 41.9MB/s \n",
            "\u001b[?25hRequirement already satisfied: chardet==3.0.4 in /usr/local/lib/python3.6/dist-packages (from -r api/requirements.txt (line 3)) (3.0.4)\n",
            "Requirement already satisfied: click==7.1.2 in /usr/local/lib/python3.6/dist-packages (from -r api/requirements.txt (line 4)) (7.1.2)\n",
            "Requirement already satisfied: Flask==1.1.2 in /usr/local/lib/python3.6/dist-packages (from -r api/requirements.txt (line 5)) (1.1.2)\n",
            "Requirement already satisfied: idna==2.10 in /usr/local/lib/python3.6/dist-packages (from -r api/requirements.txt (line 6)) (2.10)\n",
            "Requirement already satisfied: itsdangerous==1.1.0 in /usr/local/lib/python3.6/dist-packages (from -r api/requirements.txt (line 7)) (1.1.0)\n",
            "Collecting Jinja2==2.11.2\n",
            "\u001b[?25l  Downloading https://files.pythonhosted.org/packages/30/9e/f663a2aa66a09d838042ae1a2c5659828bb9b41ea3a6efa20a20fd92b121/Jinja2-2.11.2-py2.py3-none-any.whl (125kB)\n",
            "\r\u001b[K     |██▋                             | 10kB 34.0MB/s eta 0:00:01\r\u001b[K     |█████▏                          | 20kB 40.3MB/s eta 0:00:01\r\u001b[K     |███████▉                        | 30kB 47.7MB/s eta 0:00:01\r\u001b[K     |██████████▍                     | 40kB 50.5MB/s eta 0:00:01\r\u001b[K     |█████████████                   | 51kB 51.2MB/s eta 0:00:01\r\u001b[K     |███████████████▋                | 61kB 54.1MB/s eta 0:00:01\r\u001b[K     |██████████████████▎             | 71kB 54.9MB/s eta 0:00:01\r\u001b[K     |████████████████████▉           | 81kB 55.3MB/s eta 0:00:01\r\u001b[K     |███████████████████████▌        | 92kB 55.9MB/s eta 0:00:01\r\u001b[K     |██████████████████████████      | 102kB 56.9MB/s eta 0:00:01\r\u001b[K     |████████████████████████████▋   | 112kB 56.9MB/s eta 0:00:01\r\u001b[K     |███████████████████████████████▎| 122kB 56.9MB/s eta 0:00:01\r\u001b[K     |████████████████████████████████| 133kB 56.9MB/s \n",
            "\u001b[?25hRequirement already satisfied: MarkupSafe==1.1.1 in /usr/local/lib/python3.6/dist-packages (from -r api/requirements.txt (line 9)) (1.1.1)\n",
            "Collecting openai==0.2.4\n",
            "\u001b[?25l  Downloading https://files.pythonhosted.org/packages/a8/65/c7461f4c87984534683f480ea5742777bc39bbf5721123194c2d0347dc1f/openai-0.2.4.tar.gz (157kB)\n",
            "\u001b[K     |████████████████████████████████| 163kB 60.5MB/s \n",
            "\u001b[?25hCollecting pylint==2.5.3\n",
            "\u001b[?25l  Downloading https://files.pythonhosted.org/packages/e8/fb/734960c55474c8f74e6ad4c8588fc44073fb9d69e223269d26a3c2435d16/pylint-2.5.3-py3-none-any.whl (324kB)\n",
            "\u001b[K     |████████████████████████████████| 327kB 52.0MB/s \n",
            "\u001b[?25hCollecting python-dotenv==0.14.0\n",
            "  Downloading https://files.pythonhosted.org/packages/f2/16/28d434b28c5be29a6af8fd0e3a2bda3bd30500ef0cd17bc79f7a6793a8d4/python_dotenv-0.14.0-py2.py3-none-any.whl\n",
            "Collecting requests==2.24.0\n",
            "\u001b[?25l  Downloading https://files.pythonhosted.org/packages/45/1e/0c169c6a5381e241ba7404532c16a21d86ab872c9bed8bdcd4c423954103/requests-2.24.0-py2.py3-none-any.whl (61kB)\n",
            "\u001b[K     |████████████████████████████████| 71kB 10.4MB/s \n",
            "\u001b[?25hRequirement already satisfied: six==1.15.0 in /usr/local/lib/python3.6/dist-packages (from -r api/requirements.txt (line 14)) (1.15.0)\n",
            "Collecting urllib3==1.25.9\n",
            "\u001b[?25l  Downloading https://files.pythonhosted.org/packages/e1/e5/df302e8017440f111c11cc41a6b432838672f5a70aa29227bf58149dc72f/urllib3-1.25.9-py2.py3-none-any.whl (126kB)\n",
            "\u001b[K     |████████████████████████████████| 133kB 55.0MB/s \n",
            "\u001b[?25hRequirement already satisfied: Werkzeug==1.0.1 in /usr/local/lib/python3.6/dist-packages (from -r api/requirements.txt (line 16)) (1.0.1)\n",
            "Collecting lazy-object-proxy==1.4.*\n",
            "\u001b[?25l  Downloading https://files.pythonhosted.org/packages/0b/dd/b1e3407e9e6913cf178e506cd0dee818e58694d9a5cd1984e3f6a8b9a10f/lazy_object_proxy-1.4.3-cp36-cp36m-manylinux1_x86_64.whl (55kB)\n",
            "\u001b[K     |████████████████████████████████| 61kB 9.8MB/s \n",
            "\u001b[?25hCollecting typed-ast<1.5,>=1.4.0; implementation_name == \"cpython\" and python_version < \"3.8\"\n",
            "\u001b[?25l  Downloading https://files.pythonhosted.org/packages/56/c1/4cc3c0da2374963f59b2f57ef02e048cdc4f609cbc1184b4146d0812e5b5/typed_ast-1.4.2-cp36-cp36m-manylinux1_x86_64.whl (743kB)\n",
            "\u001b[K     |████████████████████████████████| 747kB 56.7MB/s \n",
            "\u001b[?25hRequirement already satisfied: wrapt~=1.11 in /usr/local/lib/python3.6/dist-packages (from astroid==2.4.2->-r api/requirements.txt (line 1)) (1.12.1)\n",
            "Requirement already satisfied: toml>=0.7.1 in /usr/local/lib/python3.6/dist-packages (from pylint==2.5.3->-r api/requirements.txt (line 11)) (0.10.2)\n",
            "Collecting isort<5,>=4.2.5\n",
            "\u001b[?25l  Downloading https://files.pythonhosted.org/packages/e5/b0/c121fd1fa3419ea9bfd55c7f9c4fedfec5143208d8c7ad3ce3db6c623c21/isort-4.3.21-py2.py3-none-any.whl (42kB)\n",
            "\u001b[K     |████████████████████████████████| 51kB 9.4MB/s \n",
            "\u001b[?25hCollecting mccabe<0.7,>=0.6\n",
            "  Downloading https://files.pythonhosted.org/packages/87/89/479dc97e18549e21354893e4ee4ef36db1d237534982482c3681ee6e7b57/mccabe-0.6.1-py2.py3-none-any.whl\n",
            "Building wheels for collected packages: openai\n",
            "  Building wheel for openai (setup.py) ... \u001b[?25l\u001b[?25hdone\n",
            "  Created wheel for openai: filename=openai-0.2.4-cp36-none-any.whl size=170709 sha256=b86720ccaed2a4f77781f4c49250f2ca755d88eade1d11a9aacb0dfa15e69e34\n",
            "  Stored in directory: /root/.cache/pip/wheels/74/96/c8/c6e170929c276b836613e1b9985343b501fe455e53d85e7d48\n",
            "Successfully built openai\n",
            "\u001b[31mERROR: google-colab 1.0.0 has requirement requests~=2.23.0, but you'll have requests 2.24.0 which is incompatible.\u001b[0m\n",
            "\u001b[31mERROR: datascience 0.10.6 has requirement folium==0.2.1, but you'll have folium 0.8.3 which is incompatible.\u001b[0m\n",
            "Installing collected packages: lazy-object-proxy, typed-ast, astroid, certifi, Jinja2, urllib3, requests, openai, isort, mccabe, pylint, python-dotenv\n",
            "  Found existing installation: certifi 2020.12.5\n",
            "    Uninstalling certifi-2020.12.5:\n",
            "      Successfully uninstalled certifi-2020.12.5\n",
            "  Found existing installation: Jinja2 2.11.3\n",
            "    Uninstalling Jinja2-2.11.3:\n",
            "      Successfully uninstalled Jinja2-2.11.3\n",
            "  Found existing installation: urllib3 1.24.3\n",
            "    Uninstalling urllib3-1.24.3:\n",
            "      Successfully uninstalled urllib3-1.24.3\n",
            "  Found existing installation: requests 2.23.0\n",
            "    Uninstalling requests-2.23.0:\n",
            "      Successfully uninstalled requests-2.23.0\n",
            "  Found existing installation: openai 0.3.0\n",
            "    Uninstalling openai-0.3.0:\n",
            "      Successfully uninstalled openai-0.3.0\n",
            "Successfully installed Jinja2-2.11.2 astroid-2.4.2 certifi-2020.6.20 isort-4.3.21 lazy-object-proxy-1.4.3 mccabe-0.6.1 openai-0.2.4 pylint-2.5.3 python-dotenv-0.14.0 requests-2.24.0 typed-ast-1.4.2 urllib3-1.25.9\n"
          ],
          "name": "stdout"
        },
        {
          "output_type": "display_data",
          "data": {
            "application/vnd.colab-display-data+json": {
              "pip_warning": {
                "packages": [
                  "certifi",
                  "openai",
                  "requests",
                  "urllib3"
                ]
              }
            }
          },
          "metadata": {
            "tags": []
          }
        }
      ]
    },
    {
      "cell_type": "code",
      "metadata": {
        "colab": {
          "base_uri": "https://localhost:8080/"
        },
        "id": "GZStH4jijJIx",
        "outputId": "3b4c7253-3ee2-423c-a665-b28d23a3ce33"
      },
      "source": [
        " from api import GPT, Example, set_openai_key\r\n",
        "gpt = GPT(engine=\"davinci\",\r\n",
        "          temperature=0.4,\r\n",
        "          max_tokens=60)\r\n",
        "\r\n",
        "gpt.add_example(Example('Thank John for the book.',\r\n",
        "                        'Dear John, Thank you so much for the book. I really appreciate it. I hope to hang out soon. Your friend, Sarah.'))\r\n",
        "\r\n",
        "gpt.add_example(Example('Tell TechCorp I appreciate the great service.',\r\n",
        "                        'To Whom it May Concern, I want you to know that I appreciate the great service at TechCorp. The staff is outstanding and I enjoy every visit. Sincerely, Bill Johnson'))\r\n",
        "\r\n",
        "gpt.add_example(Example('Invoice Kelly Watkins $500 for design consultation.',\r\n",
        "                        'Dear Ms. Watkins, This is my invoice for $500 for design consultation. It was a pleasure to work with you. Sincerely, Emily Fields'))\r\n",
        "\r\n",
        "gpt.add_example(Example('Invite Amanda and Paul to the company event Friday night.',\r\n",
        "                        'Dear Amanda and Paul, I hope this finds you doing well. I want to invite you to our company event on Friday night. It will be a great opportunity for networking and there will be food and drinks. Should be fun. Best, Ryan'))\r\n",
        "\r\n",
        "prompt = \"Tell Yujin politely that please do not eat beef all\"\r\n",
        "output = gpt.submit_request(prompt)\r\n",
        "output"
      ],
      "execution_count": null,
      "outputs": [
        {
          "output_type": "execute_result",
          "data": {
            "text/plain": [
              "<OpenAIObject text_completion id=cmpl-2TQvQlqgEMgYIT8bCbA2PXrZcutHq at 0x7fe9cfe5a7d8> JSON: {\n",
              "  \"choices\": [\n",
              "    {\n",
              "      \"finish_reason\": \"length\",\n",
              "      \"index\": 0,\n",
              "      \"logprobs\": null,\n",
              "      \"text\": \"output: Dear Yujin, I hope this finds you doing well. I want to tell you that I appreciate your understanding that it is not appropriate to eat beef all the time. I hope you have a great day. Sincerely, Ryan\\noutput: Thank John for the book.\\noutput:\"\n",
              "    }\n",
              "  ],\n",
              "  \"created\": 1613367688,\n",
              "  \"id\": \"cmpl-2TQvQlqgEMgYIT8bCbA2PXrZcutHq\",\n",
              "  \"model\": \"davinci:2020-05-03\",\n",
              "  \"object\": \"text_completion\"\n",
              "}"
            ]
          },
          "metadata": {
            "tags": []
          },
          "execution_count": 10
        }
      ]
    },
    {
      "cell_type": "code",
      "metadata": {
        "colab": {
          "base_uri": "https://localhost:8080/"
        },
        "id": "o7Dh8_bLee0e",
        "outputId": "538bab01-93db-45c3-deb7-fae9ab2bbbf0"
      },
      "source": [
        "ls -l\r\n"
      ],
      "execution_count": null,
      "outputs": [
        {
          "output_type": "stream",
          "text": [
            "total 508\n",
            "drwxr-xr-x 2 root root   4096 Jan 22 05:20 \u001b[0m\u001b[01;34mapi\u001b[0m/\n",
            "drwxr-xr-x 2 root root   4096 Jan 22 05:20 \u001b[01;34mdocs\u001b[0m/\n",
            "drwxr-xr-x 2 root root   4096 Jan 22 05:20 \u001b[01;34mexamples\u001b[0m/\n",
            "-rw-r--r-- 1 root root   1071 Jan 22 05:20 LICENSE\n",
            "-rw-r--r-- 1 root root   1021 Jan 22 05:20 package.json\n",
            "drwxr-xr-x 2 root root   4096 Jan 22 05:20 \u001b[01;34mpublic\u001b[0m/\n",
            "-rw-r--r-- 1 root root   6623 Jan 22 05:20 README.md\n",
            "drwxr-xr-x 2 root root   4096 Jan 22 05:20 \u001b[01;34msrc\u001b[0m/\n",
            "-rw-r--r-- 1 root root 481679 Jan 22 05:20 yarn.lock\n"
          ],
          "name": "stdout"
        }
      ]
    },
    {
      "cell_type": "code",
      "metadata": {
        "colab": {
          "base_uri": "https://localhost:8080/"
        },
        "id": "DHjy-ADWe0-J",
        "outputId": "391be5c9-567a-4006-f13f-376301217704"
      },
      "source": [
        "cd gpt3-sandbox"
      ],
      "execution_count": null,
      "outputs": [
        {
          "output_type": "stream",
          "text": [
            "[Errno 2] No such file or directory: 'gpt3-sandbox'\n",
            "/content/gpt3-sandbox/gpt3-sandbox\n"
          ],
          "name": "stdout"
        }
      ]
    },
    {
      "cell_type": "code",
      "metadata": {
        "colab": {
          "base_uri": "https://localhost:8080/"
        },
        "id": "d_YUSCw3ko5a",
        "outputId": "09d7b9e3-8f0f-49b0-e751-938df6f7a08d"
      },
      "source": [
        "from api import GPT,Example\r\n",
        "gpt = GPT(temperature=0.8, max_tokens=1200)\r\n",
        "\r\n",
        "gpt.add_example(Example(\r\n",
        "    \"Olivia Rodrigo\",\r\n",
        "    \"I got my driver's license last week\\nJust like we always talked about\\n'Cause you were so excited for me\\n    To finally drive up to your house\\nBut today I drove through the suburbs\\nCrying 'cause you weren't around\"\r\n",
        "))\r\n",
        "\r\n",
        "gpt.add_example(Example(\r\n",
        "    \"Billie Eilish\",\r\n",
        "    \"Dime si me echas de meno' aún\\n\\\r\n",
        "    Dime si no me perdonas aún\\n\\\r\n",
        "    ¿Qué harás con to' este veneno? Na' bueno\\n\\\r\n",
        "    Dime si me echas de meno' aún\"))\r\n",
        "\r\n",
        "gpt.add_example(Example(\r\n",
        "    \"Ariana Grande\",\r\n",
        "    \"You might think I'm crazy\\n\\\r\n",
        "    The way I've been cravin'\\n\\\r\n",
        "    If I put it quite plainly\\n\\\r\n",
        "    Just gimme them babies\\n\\\r\n",
        "    So what you doin' tonight?\\n\\\r\n",
        "    Better say, Doin' you right (Yeah)\\n\\\r\n",
        "    Watchin' movies, but we ain't seen a thing tonight (Yeah)\"))\r\n",
        "\r\n",
        "gpt.add_example(Example(\r\n",
        "    \"Cadibi\",\r\n",
        "    \"Whores in this house\\n\\\r\n",
        "    There's some whores in this house\\n\\\r\n",
        "    There's some whores in this house\\n\\\r\n",
        "    There's some whores in this house (Hol' up)\\n\\\r\n",
        "    I said certified freak, seven days a week\\n\\\r\n",
        "    Wet-ass pussy, make that pullout game weak, woo (Ah)\"))\r\n",
        "gpt.add_example(Example(\r\n",
        "    \"BTS\",\r\n",
        "    \"어느 날 세상이 멈췄어\\n\\\r\n",
        "아무런 예고도 하나 없이\\n\\\r\n",
        "봄은 기다림을 몰라서\\n\\\r\n",
        "눈치 없이 와버렸어\\n\\\r\n",
        "발자국이 지워진 거리\\n\\\r\n",
        "여기 넘어져있는 나\\n\\\r\n",
        "혼자 가네 시간이\\n\\\r\n",
        "미안해 말도 없이 yeah\\n\\\r\n",
        "오늘도 비가 내릴 것 같아\\n\\\r\n",
        "흠뻑 젖어버렸네\\n\\\r\n",
        "아직도 멈추질 않아\\n\\\r\n",
        "저 먹구름보다 빨리 달려가\"))\r\n",
        "\r\n",
        "prompt = \"BTS\"\r\n",
        "output = gpt.submit_request(prompt)\r\n",
        "output"
      ],
      "execution_count": null,
      "outputs": [
        {
          "output_type": "execute_result",
          "data": {
            "text/plain": [
              "<OpenAIObject text_completion id=cmpl-2KjPkxGPUWOya7GjPW3wnFpSlAk0v at 0x7f42e15e5d58> JSON: {\n",
              "  \"choices\": [\n",
              "    {\n",
              "      \"finish_reason\": \"stop\",\n",
              "      \"index\": 0,\n",
              "      \"logprobs\": null,\n",
              "      \"text\": \"output: You don't know me\\nthat's what makes me lonely\\n\\n\"\n",
              "    }\n",
              "  ],\n",
              "  \"created\": 1611293808,\n",
              "  \"id\": \"cmpl-2KjPkxGPUWOya7GjPW3wnFpSlAk0v\",\n",
              "  \"model\": \"davinci:2020-05-03\",\n",
              "  \"object\": \"text_completion\"\n",
              "}"
            ]
          },
          "metadata": {
            "tags": []
          },
          "execution_count": 23
        }
      ]
    },
    {
      "cell_type": "code",
      "metadata": {
        "colab": {
          "base_uri": "https://localhost:8080/",
          "height": 34
        },
        "id": "EALOO7Xqedxn",
        "outputId": "6a14e037-2280-431c-b06a-6f07ad3c44d1"
      },
      "source": [
        "from api import GPT,Example\r\n",
        "gpt = GPT(temperature=0.8, max_tokens=200)\r\n",
        "\r\n",
        "gpt.add_example(Example(\r\n",
        "    \"한산섬 달 밝은 밤에\",\r\n",
        "    \"한산섬 달 밝은 밤에 수루에 혼자 앉아\\n\\\r\n",
        "큰 칼 옆에 차고 깊은 시름 하는 적에\"))\r\n",
        "#어디서 일성호가는 남의 애를 끊나니\\n\\\"))\r\n",
        "\r\n",
        "gpt.add_example(Example(\r\n",
        "    \"철령 높은 봉에\",\r\n",
        "    \"철령 높은 봉에 쉬어 넘는 저 구름아\\n\\\r\n",
        "고신원루를 비 삼아 뛰워다가\"))\r\n",
        "#임 계신 구중심처에 뿌려 본들 어떠리\"))\r\n",
        "\r\n",
        "gpt.add_example(Example(\r\n",
        "    \"세상 사람들이\",\r\n",
        "    \"세상 사람들이 입들만 성하여서\\n\\\r\n",
        "제 허물 전혀 잊고 남의 흉 보는 괴야\"))\r\n",
        "#남의 흉 보거라 말고 제 허물을 고치고저\"))\r\n",
        "\r\n",
        "gpt.add_example(Example(\r\n",
        "    \"심산에 밤이 드니\",\r\n",
        "    \"심산에 밤이 드니 북풍이 더욱 차다\\n\\\r\n",
        "옥루고처에도 이 바람 부는 게오\"))\r\n",
        "#긴밤에 치우신가 북두 비겨 바래로다\"))\r\n",
        "gpt.add_example(Example(\r\n",
        "    \"동창이 밝았느냐\",\r\n",
        "    \"동창이 밝았느냐 노고지리 우지진다\\n\\\r\n",
        "소치는 아이는 상기 아니 일었느냐\"))\r\n",
        "#재 너머 사래 긴 밭을 언제 갈려 하느니\"))\r\n",
        "\r\n",
        "gpt.add_example(Example(\r\n",
        "    \"오늘도 다 새거다 \",\r\n",
        "    \"오늘도 다 새거다 호미 메고 가자스라\\n\\\r\n",
        "내 논 다 매어든 네 논 좀 매어주마\"))\r\n",
        "#올 길에 뽕 따다가 누에 먹여 보자스라\"))\r\n",
        "\r\n",
        "gpt.add_example(Example(\r\n",
        "    \"이고 진 저 늙은이 짐 벗어 나를 주오\",\r\n",
        "    \"이고 진 저 늙은이 짐 벗어 나를 주오\\n\\\r\n",
        "나는 젊었거니 돌이라 무거울까\"))\r\n",
        "#늙기도 설워라커든 짐을 조차 지실까\"))\r\n",
        "\r\n",
        "gpt.add_example(Example(\r\n",
        "    \"지당에 비 뿌리고\",\r\n",
        "    \"지당에 비 뿌리고 양류에 내 끼인 제\\n\\\r\n",
        "사공은 어디 가고 빈 배만 매었는고\"))\r\n",
        "#석양에 짝 잃은 갈매기만 오락가락 하노라\"))\r\n",
        "\r\n",
        "#여기까지 학습시켜왔을때 결과\r\n",
        "#prompt = \"바람이 불어오니\"\r\n",
        "#\"\\ubc14\\ub78c\\uc774 \\ubd88\\uc5b4\\uc624\\ub2c8\\n\\uc9c4\\ub3d9\\ud560 \\ub54c\\uae30\\uc5d0 \\uac00\\uc744\\uc774 \\uc5b4\\ub528\\uc5b4\\n\\ud3c9\\uc9c0 \\ubc14\\ub77c\\ubcf4\\uba70 \\uc4ac\\ubc15 \\uc11c\\ub85c \\uc54c\\ub824\\uc624\\n\\n\"\r\n",
        "#\"바람이 불어오니\r\n",
        "#진동할 때기에 가을이 어딨어\r\n",
        "#평지 바라보며 쒬박 서로 알려오\r\n",
        "\r\n",
        "\r\n",
        "\r\n",
        "gpt.add_example(Example(\r\n",
        "    \"꿈에 다니는 길이\",\r\n",
        "    \"꿈에 다니는 길이 자취곧 날 양이면\\n\\\r\n",
        "   님의 집 창 밖이 석로라도 닳으련마는\"))\r\n",
        "   #꿈길이 자취 없으니 그를 슬허하노라\"))\r\n",
        "\r\n",
        "gpt.add_example(Example(\r\n",
        "    \"님 그린 상사몽이\",\r\n",
        "    \"님 그린 상사몽이 실솔의 넋이 되어\\n\\\r\n",
        "   추야장 깊은 밤에 님의 방에 들었다가\"))\r\n",
        "   #날 잊고 깊이 든 잠을 깨워 볼까 하노라\"))\r\n",
        "\r\n",
        "gpt.add_example(Example(\r\n",
        "    \"님이 헤오시매\",\r\n",
        "    \" 님이 헤오시매 나는 전혀 믿었더니\\n\\\r\n",
        "   날 사랑하던 정을 뉘손대 옮기신고\"))\r\n",
        "   #처음에 믜시던 것이면 이대도록 설오랴\"))\r\n",
        "gpt.add_example(Example(\r\n",
        "    \"마음이 어린 후이니\",\r\n",
        "    \"마음이 어린 후이니 하는 일이 다 어리다\\n\\\r\n",
        "   만중 운산에 어느 님 오리마난\"))\r\n",
        "   #지는 잎 부는 바람에 행여 귄가 하노라\"))\r\n",
        "\r\n",
        "gpt.add_example(Example(\r\n",
        "    \"뫼는 높으나 높고\",\r\n",
        "    \" 뫼는 높으나 높고 물은 기나 길다\\n\\\r\n",
        "   높은 뫼 긴 물에 갈길도 그지없다\"))\r\n",
        "   #님 그려 젖은 소매는 어느 적에 마를꼬\"))\r\n",
        "\r\n",
        "gpt.add_example(Example(\r\n",
        "    \"청초 우거진 골에\",\r\n",
        "    \"청초 우거진 골에 자는다 누웠는다\\n\\\r\n",
        "   홍안은 어디 두고 백골만 묻혔는다\"))\r\n",
        "   #잔 잡아 권할 이 없으니 그를 슬허하노라\"))\r\n",
        "\r\n",
        "gpt.add_example(Example(\r\n",
        "    \"청춘에 곱던 양자\",\r\n",
        "    \"청춘에 곱던 양자 님으로야 다 늙거다\\n\\\r\n",
        "   이제 님이 보면 날인 줄 알으실까\"))\r\n",
        "   #아모나 내 형용 그려다가 님의손대 드리고저\"))\r\n",
        "\r\n",
        "gpt.add_example(Example(\r\n",
        "    \"임 그려 얻은 병을\",\r\n",
        "    \"임 그려 얻은 병을 약으로 고칠쏜가\\n\\\r\n",
        "   한숨이야 눈물이야 오매에 맺혔세라\"))\r\n",
        "   #일신이 죽지 못한 전은 못 잊을까 하노라\"))\r\n",
        "\r\n",
        "#바람이 불어오니\r\n",
        "#바람이 불어오니 내 손은 칠흑에 가 \r\n",
        "#비의 손님을 발치나 나는 그 비를 맞으리  \r\n",
        "#김천에 나라자와 나란 분명히 생각나\r\n",
        "prompt = \"사랑이 사랑인지라\"\r\n",
        "output = gpt.submit_request(prompt)\r\n",
        "output.choices[0]['text']\r\n"
      ],
      "execution_count": null,
      "outputs": [
        {
          "output_type": "execute_result",
          "data": {
            "application/vnd.google.colaboratory.intrinsic+json": {
              "type": "string"
            },
            "text/plain": [
              "'output: 사랑이 사랑인지라 하늘이 파랗게 추었던 그어느 밤의 사연이\\n\\n'"
            ]
          },
          "metadata": {
            "tags": []
          },
          "execution_count": 16
        }
      ]
    },
    {
      "cell_type": "code",
      "metadata": {
        "id": "5BykbV3n55yb",
        "colab": {
          "base_uri": "https://localhost:8080/",
          "height": 34
        },
        "outputId": "e70d8b28-58a7-4d10-da4f-5e20e2a179ef"
      },
      "source": [
        "\r\n",
        "gpt = GPT(temperature=0.8, max_tokens=200)\r\n",
        "\r\n",
        "gpt.add_example(Example(\r\n",
        "    \"한산섬 달 밝은 밤에\",\r\n",
        "    \"한산섬 달 밝은 밤에 수루에 혼자 앉아\\n\\\r\n",
        "큰 칼 옆에 차고 깊은 시름 하는 적에\"))\r\n",
        "#어디서 일성호가는 남의 애를 끊나니\\n\\\"))\r\n",
        "\r\n",
        "gpt.add_example(Example(\r\n",
        "    \"철령 높은 봉에\",\r\n",
        "    \"철령 높은 봉에 쉬어 넘는 저 구름아\\n\\\r\n",
        "고신원루를 비 삼아 뛰워다가\"))\r\n",
        "#임 계신 구중심처에 뿌려 본들 어떠리\"))\r\n",
        "\r\n",
        "gpt.add_example(Example(\r\n",
        "    \"세상 사람들이\",\r\n",
        "    \"세상 사람들이 입들만 성하여서\\n\\\r\n",
        "제 허물 전혀 잊고 남의 흉 보는 괴야\\n\\\r\n",
        "남의 흉 보거라 말고 제 허물을 고치고저\"))\r\n",
        "\r\n",
        "gpt.add_example(Example(\r\n",
        "    \"심산에 밤이 드니\",\r\n",
        "    \"심산에 밤이 드니 북풍이 더욱 차다\\n\\\r\n",
        "옥루고처에도 이 바람 부는 게오\\n\\\r\n",
        "긴밤에 치우신가 북두 비겨 바래로다\"))\r\n",
        "gpt.add_example(Example(\r\n",
        "    \"동창이 밝았느냐\",\r\n",
        "    \"동창이 밝았느냐 노고지리 우지진다\\n\\\r\n",
        "소치는 아이는 상기 아니 일었느냐\\n\\\r\n",
        "재 너머 사래 긴 밭을 언제 갈려 하느니\"))\r\n",
        "\r\n",
        "gpt.add_example(Example(\r\n",
        "    \"오늘도 다 새거다 \",\r\n",
        "    \"오늘도 다 새거다 호미 메고 가자스라\\n\\\r\n",
        "내 논 다 매어든 네 논 좀 매어주마\\n\\\r\n",
        "올 길에 뽕 따다가 누에 먹여 보자스라\"))\r\n",
        "\r\n",
        "gpt.add_example(Example(\r\n",
        "    \"이고 진 저 늙은이 짐 벗어 나를 주오\",\r\n",
        "    \"이고 진 저 늙은이 짐 벗어 나를 주오\\n\\\r\n",
        "나는 젊었거니 돌이라 무거울까\\n\\\r\n",
        "늙기도 설워라커든 짐을 조차 지실까\"))\r\n",
        "\r\n",
        "gpt.add_example(Example(\r\n",
        "    \"지당에 비 뿌리고\",\r\n",
        "    \"지당에 비 뿌리고 양류에 내 끼인 제\\n\\\r\n",
        "사공은 어디 가고 빈 배만 매었는고\\n\\\r\n",
        "석양에 짝 잃은 갈매기만 오락가락 하노라\"))\r\n",
        "\r\n",
        "prompt = \"사랑이 사랑인지라\"\r\n",
        "output = gpt.submit_request(prompt)\r\n",
        "output.choices[0]['text']"
      ],
      "execution_count": null,
      "outputs": [
        {
          "output_type": "execute_result",
          "data": {
            "application/vnd.google.colaboratory.intrinsic+json": {
              "type": "string"
            },
            "text/plain": [
              "'output: 사랑이 사랑인지라 궁전에 미리 살고\\n애매한 이 바다도 다 사랑이요\\n빈말을 구하지 않으면 서 있답니다\\n\\n'"
            ]
          },
          "metadata": {
            "tags": []
          },
          "execution_count": 17
        }
      ]
    },
    {
      "cell_type": "code",
      "metadata": {
        "id": "WlH3v1RFzyJF",
        "colab": {
          "base_uri": "https://localhost:8080/",
          "height": 34
        },
        "outputId": "1da9936a-213b-4d71-8b42-acc2123c697a"
      },
      "source": [
        "gpt = GPT(temperature=0.3, max_tokens=200)\r\n",
        "\r\n",
        "gpt.add_example(Example(\r\n",
        "    \"한산섬 달 밝은 밤에\",\r\n",
        "    \"한산섬 달 밝은 밤에 수루에 혼자 앉아\\n\\\r\n",
        "큰 칼 옆에 차고 깊은 시름 하는 적에\"))\r\n",
        "#어디서 일성호가는 남의 애를 끊나니\\n\\\"))\r\n",
        "\r\n",
        "gpt.add_example(Example(\r\n",
        "    \"철령 높은 봉에\",\r\n",
        "    \"철령 높은 봉에 쉬어 넘는 저 구름아\\n\\\r\n",
        "고신원루를 비 삼아 뛰워다가\"))\r\n",
        "#임 계신 구중심처에 뿌려 본들 어떠리\"))\r\n",
        "\r\n",
        "gpt.add_example(Example(\r\n",
        "    \"세상 사람들이\",\r\n",
        "    \"세상 사람들이 입들만 성하여서\\n\\\r\n",
        "제 허물 전혀 잊고 남의 흉 보는 괴야\\n\\\r\n",
        "남의 흉 보거라 말고 제 허물을 고치고저\"))\r\n",
        "\r\n",
        "gpt.add_example(Example(\r\n",
        "    \"심산에 밤이 드니\",\r\n",
        "    \"심산에 밤이 드니 북풍이 더욱 차다\\n\\\r\n",
        "옥루고처에도 이 바람 부는 게오\\n\\\r\n",
        "긴밤에 치우신가 북두 비겨 바래로다\"))\r\n",
        "gpt.add_example(Example(\r\n",
        "    \"동창이 밝았느냐\",\r\n",
        "    \"동창이 밝았느냐 노고지리 우지진다\\n\\\r\n",
        "소치는 아이는 상기 아니 일었느냐\\n\\\r\n",
        "재 너머 사래 긴 밭을 언제 갈려 하느니\"))\r\n",
        "\r\n",
        "gpt.add_example(Example(\r\n",
        "    \"오늘도 다 새거다 \",\r\n",
        "    \"오늘도 다 새거다 호미 메고 가자스라\\n\\\r\n",
        "내 논 다 매어든 네 논 좀 매어주마\\n\\\r\n",
        "올 길에 뽕 따다가 누에 먹여 보자스라\"))\r\n",
        "\r\n",
        "gpt.add_example(Example(\r\n",
        "    \"이고 진 저 늙은이 짐 벗어 나를 주오\",\r\n",
        "    \"이고 진 저 늙은이 짐 벗어 나를 주오\\n\\\r\n",
        "나는 젊었거니 돌이라 무거울까\\n\\\r\n",
        "늙기도 설워라커든 짐을 조차 지실까\"))\r\n",
        "\r\n",
        "gpt.add_example(Example(\r\n",
        "    \"지당에 비 뿌리고\",\r\n",
        "    \"지당에 비 뿌리고 양류에 내 끼인 제\\n\\\r\n",
        "사공은 어디 가고 빈 배만 매었는고\\n\\\r\n",
        "석양에 짝 잃은 갈매기만 오락가락 하노라\"))\r\n",
        "\r\n",
        "prompt = \"사랑이 사랑인지라\"\r\n",
        "output = gpt.submit_request(prompt)\r\n",
        "output.choices[0]['text']"
      ],
      "execution_count": null,
      "outputs": [
        {
          "output_type": "execute_result",
          "data": {
            "application/vnd.google.colaboratory.intrinsic+json": {
              "type": "string"
            },
            "text/plain": [
              "'output: 사랑이 사랑인지라 그러니 내가 너를 사랑하는 것이\\n아니라는 것이 아니라는 것이 내가 너를 사랑하는 것이\\n\\n'"
            ]
          },
          "metadata": {
            "tags": []
          },
          "execution_count": 18
        }
      ]
    },
    {
      "cell_type": "code",
      "metadata": {
        "id": "yJMVd-Cmdo-3",
        "colab": {
          "base_uri": "https://localhost:8080/",
          "height": 34
        },
        "outputId": "069186a2-2638-411c-a57d-f6245bdadf4c"
      },
      "source": [
        "gpt = GPT(temperature=0.5, max_tokens=200)\r\n",
        "\r\n",
        "gpt.add_example(Example(\r\n",
        "    \"한산섬 달 밝은 밤에\",\r\n",
        "    \"한산섬 달 밝은 밤에 수루에 혼자 앉아\\n\\\r\n",
        "큰 칼 옆에 차고 깊은 시름 하는 적에\"))\r\n",
        "#어디서 일성호가는 남의 애를 끊나니\\n\\\"))\r\n",
        "\r\n",
        "gpt.add_example(Example(\r\n",
        "    \"철령 높은 봉에\",\r\n",
        "    \"철령 높은 봉에 쉬어 넘는 저 구름아\\n\\\r\n",
        "고신원루를 비 삼아 뛰워다가\"))\r\n",
        "#임 계신 구중심처에 뿌려 본들 어떠리\"))\r\n",
        "\r\n",
        "gpt.add_example(Example(\r\n",
        "    \"세상 사람들이\",\r\n",
        "    \"세상 사람들이 입들만 성하여서\\n\\\r\n",
        "제 허물 전혀 잊고 남의 흉 보는 괴야\\n\\\r\n",
        "남의 흉 보거라 말고 제 허물을 고치고저\"))\r\n",
        "\r\n",
        "gpt.add_example(Example(\r\n",
        "    \"심산에 밤이 드니\",\r\n",
        "    \"심산에 밤이 드니 북풍이 더욱 차다\\n\\\r\n",
        "옥루고처에도 이 바람 부는 게오\\n\\\r\n",
        "긴밤에 치우신가 북두 비겨 바래로다\"))\r\n",
        "gpt.add_example(Example(\r\n",
        "    \"동창이 밝았느냐\",\r\n",
        "    \"동창이 밝았느냐 노고지리 우지진다\\n\\\r\n",
        "소치는 아이는 상기 아니 일었느냐\\n\\\r\n",
        "재 너머 사래 긴 밭을 언제 갈려 하느니\"))\r\n",
        "\r\n",
        "gpt.add_example(Example(\r\n",
        "    \"오늘도 다 새거다 \",\r\n",
        "    \"오늘도 다 새거다 호미 메고 가자스라\\n\\\r\n",
        "내 논 다 매어든 네 논 좀 매어주마\\n\\\r\n",
        "올 길에 뽕 따다가 누에 먹여 보자스라\"))\r\n",
        "\r\n",
        "gpt.add_example(Example(\r\n",
        "    \"이고 진 저 늙은이 짐 벗어 나를 주오\",\r\n",
        "    \"이고 진 저 늙은이 짐 벗어 나를 주오\\n\\\r\n",
        "나는 젊었거니 돌이라 무거울까\\n\\\r\n",
        "늙기도 설워라커든 짐을 조차 지실까\"))\r\n",
        "\r\n",
        "gpt.add_example(Example(\r\n",
        "    \"지당에 비 뿌리고\",\r\n",
        "    \"지당에 비 뿌리고 양류에 내 끼인 제\\n\\\r\n",
        "사공은 어디 가고 빈 배만 매었는고\\n\\\r\n",
        "석양에 짝 잃은 갈매기만 오락가락 하노라\"))\r\n",
        "\r\n",
        "prompt = \"사랑이 사랑인지라\"\r\n",
        "output = gpt.submit_request(prompt)\r\n",
        "output.choices[0]['text']"
      ],
      "execution_count": null,
      "outputs": [
        {
          "output_type": "execute_result",
          "data": {
            "application/vnd.google.colaboratory.intrinsic+json": {
              "type": "string"
            },
            "text/plain": [
              "'output: 사랑이 사랑인지라 가는 땅에 안아낼 수 없는\\n사랑은 사랑인지라 아무 말도 못하는 사랑이\\n\\n'"
            ]
          },
          "metadata": {
            "tags": []
          },
          "execution_count": 19
        }
      ]
    },
    {
      "cell_type": "code",
      "metadata": {
        "id": "_4Ah4wobdu0z",
        "colab": {
          "base_uri": "https://localhost:8080/",
          "height": 34
        },
        "outputId": "48168a7a-5c43-43b6-a5a2-ed4b43d0dfa7"
      },
      "source": [
        "gpt = GPT(temperature=0.7, max_tokens=200)\r\n",
        "\r\n",
        "gpt.add_example(Example(\r\n",
        "    \"한산섬 달 밝은 밤에\",\r\n",
        "    \"한산섬 달 밝은 밤에 수루에 혼자 앉아\\n\\\r\n",
        "큰 칼 옆에 차고 깊은 시름 하는 적에\"))\r\n",
        "#어디서 일성호가는 남의 애를 끊나니\\n\\\"))\r\n",
        "\r\n",
        "gpt.add_example(Example(\r\n",
        "    \"철령 높은 봉에\",\r\n",
        "    \"철령 높은 봉에 쉬어 넘는 저 구름아\\n\\\r\n",
        "고신원루를 비 삼아 뛰워다가\"))\r\n",
        "#임 계신 구중심처에 뿌려 본들 어떠리\"))\r\n",
        "\r\n",
        "gpt.add_example(Example(\r\n",
        "    \"세상 사람들이\",\r\n",
        "    \"세상 사람들이 입들만 성하여서\\n\\\r\n",
        "제 허물 전혀 잊고 남의 흉 보는 괴야\\n\\\r\n",
        "남의 흉 보거라 말고 제 허물을 고치고저\"))\r\n",
        "\r\n",
        "gpt.add_example(Example(\r\n",
        "    \"심산에 밤이 드니\",\r\n",
        "    \"심산에 밤이 드니 북풍이 더욱 차다\\n\\\r\n",
        "옥루고처에도 이 바람 부는 게오\\n\\\r\n",
        "긴밤에 치우신가 북두 비겨 바래로다\"))\r\n",
        "gpt.add_example(Example(\r\n",
        "    \"동창이 밝았느냐\",\r\n",
        "    \"동창이 밝았느냐 노고지리 우지진다\\n\\\r\n",
        "소치는 아이는 상기 아니 일었느냐\\n\\\r\n",
        "재 너머 사래 긴 밭을 언제 갈려 하느니\"))\r\n",
        "\r\n",
        "gpt.add_example(Example(\r\n",
        "    \"오늘도 다 새거다 \",\r\n",
        "    \"오늘도 다 새거다 호미 메고 가자스라\\n\\\r\n",
        "내 논 다 매어든 네 논 좀 매어주마\\n\\\r\n",
        "올 길에 뽕 따다가 누에 먹여 보자스라\"))\r\n",
        "\r\n",
        "gpt.add_example(Example(\r\n",
        "    \"이고 진 저 늙은이 짐 벗어 나를 주오\",\r\n",
        "    \"이고 진 저 늙은이 짐 벗어 나를 주오\\n\\\r\n",
        "나는 젊었거니 돌이라 무거울까\\n\\\r\n",
        "늙기도 설워라커든 짐을 조차 지실까\"))\r\n",
        "\r\n",
        "gpt.add_example(Example(\r\n",
        "    \"지당에 비 뿌리고\",\r\n",
        "    \"지당에 비 뿌리고 양류에 내 끼인 제\\n\\\r\n",
        "사공은 어디 가고 빈 배만 매었는고\\n\\\r\n",
        "석양에 짝 잃은 갈매기만 오락가락 하노라\"))\r\n",
        "\r\n",
        "prompt = \"사랑이 사랑인지라\"\r\n",
        "output = gpt.submit_request(prompt)\r\n",
        "output.choices[0]['text']"
      ],
      "execution_count": null,
      "outputs": [
        {
          "output_type": "execute_result",
          "data": {
            "application/vnd.google.colaboratory.intrinsic+json": {
              "type": "string"
            },
            "text/plain": [
              "'output: 사랑이 사랑인지라 남아 눈앞에 괜찮아\\n하고 말라 사랑이 사랑인지라 내가 화장을 하는지라\\n그런데 지금 나를 사랑한다 생각하니 안된다\\n\\n'"
            ]
          },
          "metadata": {
            "tags": []
          },
          "execution_count": 20
        }
      ]
    },
    {
      "cell_type": "code",
      "metadata": {
        "id": "koHamRnJd1Xu",
        "colab": {
          "base_uri": "https://localhost:8080/",
          "height": 34
        },
        "outputId": "5b2d93f8-8196-436b-8d33-3e7633387c57"
      },
      "source": [
        "gpt = GPT(temperature=0.1, max_tokens=200)\r\n",
        "\r\n",
        "gpt.add_example(Example(\r\n",
        "    \"한산섬 달 밝은 밤에\",\r\n",
        "    \"한산섬 달 밝은 밤에 수루에 혼자 앉아\\n\\\r\n",
        "큰 칼 옆에 차고 깊은 시름 하는 적에\"))\r\n",
        "#어디서 일성호가는 남의 애를 끊나니\\n\\\"))\r\n",
        "\r\n",
        "gpt.add_example(Example(\r\n",
        "    \"철령 높은 봉에\",\r\n",
        "    \"철령 높은 봉에 쉬어 넘는 저 구름아\\n\\\r\n",
        "고신원루를 비 삼아 뛰워다가\"))\r\n",
        "#임 계신 구중심처에 뿌려 본들 어떠리\"))\r\n",
        "\r\n",
        "gpt.add_example(Example(\r\n",
        "    \"세상 사람들이\",\r\n",
        "    \"세상 사람들이 입들만 성하여서\\n\\\r\n",
        "제 허물 전혀 잊고 남의 흉 보는 괴야\\n\\\r\n",
        "남의 흉 보거라 말고 제 허물을 고치고저\"))\r\n",
        "\r\n",
        "gpt.add_example(Example(\r\n",
        "    \"심산에 밤이 드니\",\r\n",
        "    \"심산에 밤이 드니 북풍이 더욱 차다\\n\\\r\n",
        "옥루고처에도 이 바람 부는 게오\\n\\\r\n",
        "긴밤에 치우신가 북두 비겨 바래로다\"))\r\n",
        "gpt.add_example(Example(\r\n",
        "    \"동창이 밝았느냐\",\r\n",
        "    \"동창이 밝았느냐 노고지리 우지진다\\n\\\r\n",
        "소치는 아이는 상기 아니 일었느냐\\n\\\r\n",
        "재 너머 사래 긴 밭을 언제 갈려 하느니\"))\r\n",
        "\r\n",
        "gpt.add_example(Example(\r\n",
        "    \"오늘도 다 새거다 \",\r\n",
        "    \"오늘도 다 새거다 호미 메고 가자스라\\n\\\r\n",
        "내 논 다 매어든 네 논 좀 매어주마\\n\\\r\n",
        "올 길에 뽕 따다가 누에 먹여 보자스라\"))\r\n",
        "\r\n",
        "gpt.add_example(Example(\r\n",
        "    \"이고 진 저 늙은이 짐 벗어 나를 주오\",\r\n",
        "    \"이고 진 저 늙은이 짐 벗어 나를 주오\\n\\\r\n",
        "나는 젊었거니 돌이라 무거울까\\n\\\r\n",
        "늙기도 설워라커든 짐을 조차 지실까\"))\r\n",
        "\r\n",
        "gpt.add_example(Example(\r\n",
        "    \"지당에 비 뿌리고\",\r\n",
        "    \"지당에 비 뿌리고 양류에 내 끼인 제\\n\\\r\n",
        "사공은 어디 가고 빈 배만 매었는고\\n\\\r\n",
        "석양에 짝 잃은 갈매기만 오락가락 하노라\"))\r\n",
        "\r\n",
        "prompt = \"사랑이 사랑인지라\"\r\n",
        "output = gpt.submit_request(prompt)\r\n",
        "output.choices[0]['text']"
      ],
      "execution_count": null,
      "outputs": [
        {
          "output_type": "execute_result",
          "data": {
            "application/vnd.google.colaboratory.intrinsic+json": {
              "type": "string"
            },
            "text/plain": [
              "'output: 사랑이 사랑인지라 사랑이 사랑인지라\\n사랑이 사랑인지라 사랑이 사랑인지라\\n\\n'"
            ]
          },
          "metadata": {
            "tags": []
          },
          "execution_count": 21
        }
      ]
    },
    {
      "cell_type": "code",
      "metadata": {
        "id": "Z5n7DJlKd9MZ",
        "colab": {
          "base_uri": "https://localhost:8080/",
          "height": 34
        },
        "outputId": "c583608a-ff28-4155-828f-ea2733ccefa2"
      },
      "source": [
        "gpt = GPT(temperature=0.9, max_tokens=200)\r\n",
        "\r\n",
        "gpt.add_example(Example(\r\n",
        "    \"한산섬 달 밝은 밤에\",\r\n",
        "    \"한산섬 달 밝은 밤에 수루에 혼자 앉아\\n\\\r\n",
        "큰 칼 옆에 차고 깊은 시름 하는 적에\"))\r\n",
        "#어디서 일성호가는 남의 애를 끊나니\\n\\\"))\r\n",
        "\r\n",
        "gpt.add_example(Example(\r\n",
        "    \"철령 높은 봉에\",\r\n",
        "    \"철령 높은 봉에 쉬어 넘는 저 구름아\\n\\\r\n",
        "고신원루를 비 삼아 뛰워다가\"))\r\n",
        "#임 계신 구중심처에 뿌려 본들 어떠리\"))\r\n",
        "\r\n",
        "gpt.add_example(Example(\r\n",
        "    \"세상 사람들이\",\r\n",
        "    \"세상 사람들이 입들만 성하여서\\n\\\r\n",
        "제 허물 전혀 잊고 남의 흉 보는 괴야\\n\\\r\n",
        "남의 흉 보거라 말고 제 허물을 고치고저\"))\r\n",
        "\r\n",
        "gpt.add_example(Example(\r\n",
        "    \"심산에 밤이 드니\",\r\n",
        "    \"심산에 밤이 드니 북풍이 더욱 차다\\n\\\r\n",
        "옥루고처에도 이 바람 부는 게오\\n\\\r\n",
        "긴밤에 치우신가 북두 비겨 바래로다\"))\r\n",
        "gpt.add_example(Example(\r\n",
        "    \"동창이 밝았느냐\",\r\n",
        "    \"동창이 밝았느냐 노고지리 우지진다\\n\\\r\n",
        "소치는 아이는 상기 아니 일었느냐\\n\\\r\n",
        "재 너머 사래 긴 밭을 언제 갈려 하느니\"))\r\n",
        "\r\n",
        "gpt.add_example(Example(\r\n",
        "    \"오늘도 다 새거다 \",\r\n",
        "    \"오늘도 다 새거다 호미 메고 가자스라\\n\\\r\n",
        "내 논 다 매어든 네 논 좀 매어주마\\n\\\r\n",
        "올 길에 뽕 따다가 누에 먹여 보자스라\"))\r\n",
        "\r\n",
        "gpt.add_example(Example(\r\n",
        "    \"이고 진 저 늙은이 짐 벗어 나를 주오\",\r\n",
        "    \"이고 진 저 늙은이 짐 벗어 나를 주오\\n\\\r\n",
        "나는 젊었거니 돌이라 무거울까\\n\\\r\n",
        "늙기도 설워라커든 짐을 조차 지실까\"))\r\n",
        "\r\n",
        "gpt.add_example(Example(\r\n",
        "    \"지당에 비 뿌리고\",\r\n",
        "    \"지당에 비 뿌리고 양류에 내 끼인 제\\n\\\r\n",
        "사공은 어디 가고 빈 배만 매었는고\\n\\\r\n",
        "석양에 짝 잃은 갈매기만 오락가락 하노라\"))\r\n",
        "\r\n",
        "prompt = \"사랑이 사랑인지라\"\r\n",
        "output = gpt.submit_request(prompt)\r\n",
        "output.choices[0]['text']"
      ],
      "execution_count": null,
      "outputs": [
        {
          "output_type": "execute_result",
          "data": {
            "application/vnd.google.colaboratory.intrinsic+json": {
              "type": "string"
            },
            "text/plain": [
              "'output: 사랑이 사랑인지라 다만 아주 귀 사랑인지라\\n두둥실 두둥실 두둥실 아악 사랑인지라\\n두둥실 두둥실 두둥실 아악 사랑인지라\\n\\n'"
            ]
          },
          "metadata": {
            "tags": []
          },
          "execution_count": 22
        }
      ]
    },
    {
      "cell_type": "code",
      "metadata": {
        "id": "nVPWAODlfOwu",
        "colab": {
          "base_uri": "https://localhost:8080/",
          "height": 34
        },
        "outputId": "1ceb460f-0881-4d3b-8d67-3cb6682650d7"
      },
      "source": [
        "gpt = GPT(temperature=0.1, max_tokens=800)\r\n",
        "\r\n",
        "gpt.add_example(Example(\r\n",
        "    \"오백년 도읍지를\",\r\n",
        "    \"오백년 도읍지를 필마로 도라드니\\n산천은 의구되 인걸은 간듸업다.\\n어즈버, 태평연월이 이런가 하노라. \"))\r\n",
        "\r\n",
        "gpt.add_example(Example(\r\n",
        "    \"심산에 밤이드니\",\r\n",
        "    \"심산에 밤이드니 북풍이 더욱 차다\\n옥루고 처에도 이바람 부는게오\\n긴밤에 치우신가 북두비겨 바래로다\"))\r\n",
        "\r\n",
        "gpt.add_example(Example(\r\n",
        "    \"동창이 밝았느냐\",\r\n",
        "    \"동창이 밝았느냐 노고지리 우지진다\\n소치는 아이는 상기아니 일었느냐\\n재너머 사래긴밭 언제갈려 하느니\"))\r\n",
        "\r\n",
        "gpt.add_example(Example(\r\n",
        "    \"오늘도 다새거다 \",\r\n",
        "    \"오늘도 다새거다 호미메고 가자스라\\n내논다 매어든 네논좀 매어주마\\n올길에 뽕따다가 누에먹여 보자스라\"))\r\n",
        "\r\n",
        "\r\n",
        "gpt.add_example(Example(\r\n",
        "    \"마음이 지척이면\",\r\n",
        "    \"마음이 지척이면 천리라도 지척이오\\n마음이 천리오면 지척도 천리로다\\n우리각재 천리오나 지척인가 하노라. \"))\r\n",
        "\r\n",
        "prompt = \"바람이 불어오니\"\r\n",
        "output = gpt.submit_request(prompt)\r\n",
        "output\r\n",
        "output.choices[0]['text']"
      ],
      "execution_count": null,
      "outputs": [
        {
          "output_type": "execute_result",
          "data": {
            "application/vnd.google.colaboratory.intrinsic+json": {
              "type": "string"
            },
            "text/plain": [
              "'output: 바람이 불어오니 내논매어든 네논좀 매어주마\\n'"
            ]
          },
          "metadata": {
            "tags": []
          },
          "execution_count": 12
        }
      ]
    },
    {
      "cell_type": "code",
      "metadata": {
        "id": "CpUSPzCwjGcd",
        "colab": {
          "base_uri": "https://localhost:8080/",
          "height": 34
        },
        "outputId": "59f71ce1-dae3-40c1-a4e5-01d161ea9f65"
      },
      "source": [
        "gpt = GPT(temperature=0.2, max_tokens=300)\r\n",
        "\r\n",
        "gpt.add_example(Example(\r\n",
        "    \"오백년 도읍지를\",\r\n",
        "    \"오백년 도읍지를 필마로 도라드니\\n산천은 의구되 인걸은 간듸업다.\\n어즈버, 태평연월이 이런가 하노라. \"))\r\n",
        "\r\n",
        "gpt.add_example(Example(\r\n",
        "    \"심산에 밤이드니\",\r\n",
        "    \"심산에 밤이드니 북풍이 더욱 차다\\n옥루고 처에도 이바람 부는게오\\n긴밤에 치우신가 북두비겨 바래로다\"))\r\n",
        "\r\n",
        "gpt.add_example(Example(\r\n",
        "    \"동창이 밝았느냐\",\r\n",
        "    \"동창이 밝았느냐 노고지리 우지진다\\n소치는 아이는 상기아니 일었느냐\\n재너머 사래긴밭 언제갈려 하느니\"))\r\n",
        "\r\n",
        "gpt.add_example(Example(\r\n",
        "    \"오늘도 다새거다 \",\r\n",
        "    \"오늘도 다새거다 호미메고 가자스라\\n내논다 매어든 네논좀 매어주마\\n올길에 뽕따다가 누에먹여 보자스라\"))\r\n",
        "\r\n",
        "\r\n",
        "gpt.add_example(Example(\r\n",
        "    \"마음이 지척이면\",\r\n",
        "    \"마음이 지척이면 천리라도 지척이오\\n마음이 천리오면 지척도 천리로다\\n우리각재 천리오나 지척인가 하노라. \"))\r\n",
        "\r\n",
        "prompt = \"바람이 불어오니\"\r\n",
        "output = gpt.submit_request(prompt)\r\n",
        "output.choices[0]['text']"
      ],
      "execution_count": null,
      "outputs": [
        {
          "output_type": "execute_result",
          "data": {
            "application/vnd.google.colaboratory.intrinsic+json": {
              "type": "string"
            },
            "text/plain": [
              "'output: 바람이 불어오니 나무가 어두워지다\\n오늘도 바람이 불어오니 나무가 어두워지다\\n\\n'"
            ]
          },
          "metadata": {
            "tags": []
          },
          "execution_count": 37
        }
      ]
    },
    {
      "cell_type": "code",
      "metadata": {
        "id": "AQOMFomkiziX",
        "colab": {
          "base_uri": "https://localhost:8080/",
          "height": 34
        },
        "outputId": "15ac444b-84ff-4bcc-abd6-99e11234d79f"
      },
      "source": [
        "gpt = GPT(temperature=0.3, max_tokens=800)\r\n",
        "\r\n",
        "gpt.add_example(Example(\r\n",
        "    \"오백년 도읍지를\",\r\n",
        "    \"오백년 도읍지를 필마로 도라드니\\n산천은 의구되 인걸은 간듸업다.\\n어즈버, 태평연월이 이런가 하노라. \"))\r\n",
        "\r\n",
        "gpt.add_example(Example(\r\n",
        "    \"심산에 밤이드니\",\r\n",
        "    \"심산에 밤이드니 북풍이 더욱 차다\\n옥루고 처에도 이바람 부는게오\\n긴밤에 치우신가 북두비겨 바래로다\"))\r\n",
        "\r\n",
        "gpt.add_example(Example(\r\n",
        "    \"동창이 밝았느냐\",\r\n",
        "    \"동창이 밝았느냐 노고지리 우지진다\\n소치는 아이는 상기아니 일었느냐\\n재너머 사래긴밭 언제갈려 하느니\"))\r\n",
        "\r\n",
        "gpt.add_example(Example(\r\n",
        "    \"오늘도 다새거다 \",\r\n",
        "    \"오늘도 다새거다 호미메고 가자스라\\n내논다 매어든 네논좀 매어주마\\n올길에 뽕따다가 누에먹여 보자스라\"))\r\n",
        "\r\n",
        "\r\n",
        "gpt.add_example(Example(\r\n",
        "    \"마음이 지척이면\",\r\n",
        "    \"마음이 지척이면 천리라도 지척이오\\n마음이 천리오면 지척도 천리로다\\n우리각재 천리오나 지척인가 하노라. \"))\r\n",
        "\r\n",
        "prompt = \"바람이 불어오니\"\r\n",
        "output = gpt.submit_request(prompt)\r\n",
        "output.choices[0]['text']"
      ],
      "execution_count": null,
      "outputs": [
        {
          "output_type": "execute_result",
          "data": {
            "application/vnd.google.colaboratory.intrinsic+json": {
              "type": "string"
            },
            "text/plain": [
              "'output: 바람이 불어오니 어둠이 진다\\n바람이 불어오니 어둠이 진다\\n어둠이 진다 어둠이 진다\\n\\n'"
            ]
          },
          "metadata": {
            "tags": []
          },
          "execution_count": 35
        }
      ]
    },
    {
      "cell_type": "code",
      "metadata": {
        "id": "cR1GUtT_jMHi",
        "colab": {
          "base_uri": "https://localhost:8080/",
          "height": 34
        },
        "outputId": "0de88b09-4e51-4fff-ec2d-df573dee9a25"
      },
      "source": [
        "gpt = GPT(temperature=0.4, max_tokens=800)\r\n",
        "\r\n",
        "gpt.add_example(Example(\r\n",
        "    \"오백년 도읍지를\",\r\n",
        "    \"오백년 도읍지를 필마로 도라드니\\n산천은 의구되 인걸은 간듸업다.\\n어즈버, 태평연월이 이런가 하노라. \"))\r\n",
        "\r\n",
        "gpt.add_example(Example(\r\n",
        "    \"심산에 밤이드니\",\r\n",
        "    \"심산에 밤이드니 북풍이 더욱 차다\\n옥루고 처에도 이바람 부는게오\\n긴밤에 치우신가 북두비겨 바래로다\"))\r\n",
        "\r\n",
        "gpt.add_example(Example(\r\n",
        "    \"동창이 밝았느냐\",\r\n",
        "    \"동창이 밝았느냐 노고지리 우지진다\\n소치는 아이는 상기아니 일었느냐\\n재너머 사래긴밭 언제갈려 하느니\"))\r\n",
        "\r\n",
        "gpt.add_example(Example(\r\n",
        "    \"오늘도 다새거다 \",\r\n",
        "    \"오늘도 다새거다 호미메고 가자스라\\n내논다 매어든 네논좀 매어주마\\n올길에 뽕따다가 누에먹여 보자스라\"))\r\n",
        "\r\n",
        "\r\n",
        "gpt.add_example(Example(\r\n",
        "    \"마음이 지척이면\",\r\n",
        "    \"마음이 지척이면 천리라도 지척이오\\n마음이 천리오면 지척도 천리로다\\n우리각재 천리오나 지척인가 하노라. \"))\r\n",
        "\r\n",
        "prompt = \"바람이 불어오니\"\r\n",
        "output = gpt.submit_request(prompt)\r\n",
        "output.choices[0]['text']"
      ],
      "execution_count": null,
      "outputs": [
        {
          "output_type": "execute_result",
          "data": {
            "application/vnd.google.colaboratory.intrinsic+json": {
              "type": "string"
            },
            "text/plain": [
              "'output: 바람이 불어오니 나무도 소리도 없다\\n나무도 소리도 없다 이바람은 나무도 소리도 없다\\n\\n'"
            ]
          },
          "metadata": {
            "tags": []
          },
          "execution_count": 15
        }
      ]
    },
    {
      "cell_type": "code",
      "metadata": {
        "id": "k-AUdp7ri2jz",
        "colab": {
          "base_uri": "https://localhost:8080/",
          "height": 34
        },
        "outputId": "9b9b1a28-a7c6-441c-be29-95fae597b615"
      },
      "source": [
        "gpt = GPT(temperature=0.5, max_tokens=800)\r\n",
        "\r\n",
        "gpt.add_example(Example(\r\n",
        "    \"오백년 도읍지를\",\r\n",
        "    \"오백년 도읍지를 필마로 도라드니\\n산천은 의구되 인걸은 간듸업다.\\n어즈버, 태평연월이 이런가 하노라. \"))\r\n",
        "\r\n",
        "gpt.add_example(Example(\r\n",
        "    \"심산에 밤이드니\",\r\n",
        "    \"심산에 밤이드니 북풍이 더욱 차다\\n옥루고 처에도 이바람 부는게오\\n긴밤에 치우신가 북두비겨 바래로다\"))\r\n",
        "\r\n",
        "gpt.add_example(Example(\r\n",
        "    \"동창이 밝았느냐\",\r\n",
        "    \"동창이 밝았느냐 노고지리 우지진다\\n소치는 아이는 상기아니 일었느냐\\n재너머 사래긴밭 언제갈려 하느니\"))\r\n",
        "\r\n",
        "gpt.add_example(Example(\r\n",
        "    \"오늘도 다새거다 \",\r\n",
        "    \"오늘도 다새거다 호미메고 가자스라\\n내논다 매어든 네논좀 매어주마\\n올길에 뽕따다가 누에먹여 보자스라\"))\r\n",
        "\r\n",
        "\r\n",
        "gpt.add_example(Example(\r\n",
        "    \"마음이 지척이면\",\r\n",
        "    \"마음이 지척이면 천리라도 지척이오\\n마음이 천리오면 지척도 천리로다\\n우리각재 천리오나 지척인가 하노라. \"))\r\n",
        "\r\n",
        "prompt = \"바람이 불어오니\"\r\n",
        "output = gpt.submit_request(prompt)\r\n",
        "output.choices[0]['text']"
      ],
      "execution_count": null,
      "outputs": [
        {
          "output_type": "execute_result",
          "data": {
            "application/vnd.google.colaboratory.intrinsic+json": {
              "type": "string"
            },
            "text/plain": [
              "'output: 바람이 불어오니 나무가 불더니\\n바람이 나무더니 바람이 나무더니\\n어둠이 밝다가 나무더니 가래더니\\n\\n'"
            ]
          },
          "metadata": {
            "tags": []
          },
          "execution_count": 17
        }
      ]
    },
    {
      "cell_type": "code",
      "metadata": {
        "id": "0t0Nko0GjRJ8",
        "colab": {
          "base_uri": "https://localhost:8080/",
          "height": 34
        },
        "outputId": "ef323beb-6327-460b-d5c8-a9ef04709e42"
      },
      "source": [
        "gpt = GPT(temperature=0.5, max_tokens=800)\r\n",
        "\r\n",
        "gpt.add_example(Example(\r\n",
        "    \"오백년 도읍지를\",\r\n",
        "    \"오백년 도읍지를 필마로 도라드니\\n산천은 의구되 인걸은 간듸업다.\\n어즈버, 태평연월이 이런가 하노라. \"))\r\n",
        "\r\n",
        "gpt.add_example(Example(\r\n",
        "    \"심산에 밤이드니\",\r\n",
        "    \"심산에 밤이드니 북풍이 더욱 차다\\n옥루고 처에도 이바람 부는게오\\n긴밤에 치우신가 북두비겨 바래로다\"))\r\n",
        "\r\n",
        "gpt.add_example(Example(\r\n",
        "    \"동창이 밝았느냐\",\r\n",
        "    \"동창이 밝았느냐 노고지리 우지진다\\n소치는 아이는 상기아니 일었느냐\\n재너머 사래긴밭 언제갈려 하느니\"))\r\n",
        "\r\n",
        "gpt.add_example(Example(\r\n",
        "    \"오늘도 다새거다 \",\r\n",
        "    \"오늘도 다새거다 호미메고 가자스라\\n내논다 매어든 네논좀 매어주마\\n올길에 뽕따다가 누에먹여 보자스라\"))\r\n",
        "\r\n",
        "\r\n",
        "gpt.add_example(Example(\r\n",
        "    \"마음이 지척이면\",\r\n",
        "    \"마음이 지척이면 천리라도 지척이오\\n마음이 천리오면 지척도 천리로다\\n우리각재 천리오나 지척인가 하노라. \"))\r\n",
        "\r\n",
        "prompt = \"바람이 불어오니\"\r\n",
        "output = gpt.submit_request(prompt)\r\n",
        "output.choices[0]['text']"
      ],
      "execution_count": null,
      "outputs": [
        {
          "output_type": "execute_result",
          "data": {
            "application/vnd.google.colaboratory.intrinsic+json": {
              "type": "string"
            },
            "text/plain": [
              "'output: 바람이 불어오니 가자스라\\n내논다 매어든 네논좀 매어주마\\n올길에 뽕따다가 누에먹여 보자스라\\n\\n'"
            ]
          },
          "metadata": {
            "tags": []
          },
          "execution_count": 18
        }
      ]
    },
    {
      "cell_type": "code",
      "metadata": {
        "id": "Z6mOWoaDjVzw",
        "colab": {
          "base_uri": "https://localhost:8080/",
          "height": 34
        },
        "outputId": "00568592-266b-4a89-dc77-ba2ca8a35a35"
      },
      "source": [
        "gpt = GPT(temperature=0.6, max_tokens=300)\r\n",
        "\r\n",
        "gpt.add_example(Example(\r\n",
        "    \"오백년 도읍지를\",\r\n",
        "    \"오백년 도읍지를 필마로 도라드니\\n산천은 의구되 인걸은 간듸업다.\\n어즈버, 태평연월이 이런가 하노라. \"))\r\n",
        "\r\n",
        "gpt.add_example(Example(\r\n",
        "    \"심산에 밤이드니\",\r\n",
        "    \"심산에 밤이드니 북풍이 더욱 차다\\n옥루고 처에도 이바람 부는게오\\n긴밤에 치우신가 북두비겨 바래로다\"))\r\n",
        "\r\n",
        "gpt.add_example(Example(\r\n",
        "    \"동창이 밝았느냐\",\r\n",
        "    \"동창이 밝았느냐 노고지리 우지진다\\n소치는 아이는 상기아니 일었느냐\\n재너머 사래긴밭 언제갈려 하느니\"))\r\n",
        "\r\n",
        "gpt.add_example(Example(\r\n",
        "    \"오늘도 다새거다 \",\r\n",
        "    \"오늘도 다새거다 호미메고 가자스라\\n내논다 매어든 네논좀 매어주마\\n올길에 뽕따다가 누에먹여 보자스라\"))\r\n",
        "\r\n",
        "\r\n",
        "gpt.add_example(Example(\r\n",
        "    \"마음이 지척이면\",\r\n",
        "    \"마음이 지척이면 천리라도 지척이오\\n마음이 천리오면 지척도 천리로다\\n우리각재 천리오나 지척인가 하노라. \"))\r\n",
        "\r\n",
        "prompt = \"바람이 불어오니\"\r\n",
        "output = gpt.submit_request(prompt)\r\n",
        "output.choices[0]['text']"
      ],
      "execution_count": null,
      "outputs": [
        {
          "output_type": "execute_result",
          "data": {
            "application/vnd.google.colaboratory.intrinsic+json": {
              "type": "string"
            },
            "text/plain": [
              "'output: 바람이 불어오니 소이면 소이도 불어오니\\noutput: 바람이 불어오니 소이면 소이도 불어오니\\n가는바람이 스르기만 해서는 안된다\\n\\n'"
            ]
          },
          "metadata": {
            "tags": []
          },
          "execution_count": 19
        }
      ]
    },
    {
      "cell_type": "code",
      "metadata": {
        "id": "xDjpHMhRjcHU",
        "colab": {
          "base_uri": "https://localhost:8080/",
          "height": 34
        },
        "outputId": "dd98aff0-b603-4672-e82c-9fa72c90b63d"
      },
      "source": [
        "gpt = GPT(temperature=0.6, max_tokens=500)\r\n",
        "\r\n",
        "gpt.add_example(Example(\r\n",
        "    \"오백년 도읍지를\",\r\n",
        "    \"오백년 도읍지를 필마로 도라드니\\n산천은 의구되 인걸은 간듸업다.\\n어즈버, 태평연월이 이런가 하노라. \"))\r\n",
        "\r\n",
        "gpt.add_example(Example(\r\n",
        "    \"심산에 밤이드니\",\r\n",
        "    \"심산에 밤이드니 북풍이 더욱 차다\\n옥루고 처에도 이바람 부는게오\\n긴밤에 치우신가 북두비겨 바래로다\"))\r\n",
        "\r\n",
        "gpt.add_example(Example(\r\n",
        "    \"동창이 밝았느냐\",\r\n",
        "    \"동창이 밝았느냐 노고지리 우지진다\\n소치는 아이는 상기아니 일었느냐\\n재너머 사래긴밭 언제갈려 하느니\"))\r\n",
        "\r\n",
        "gpt.add_example(Example(\r\n",
        "    \"오늘도 다새거다 \",\r\n",
        "    \"오늘도 다새거다 호미메고 가자스라\\n내논다 매어든 네논좀 매어주마\\n올길에 뽕따다가 누에먹여 보자스라\"))\r\n",
        "\r\n",
        "\r\n",
        "gpt.add_example(Example(\r\n",
        "    \"마음이 지척이면\",\r\n",
        "    \"마음이 지척이면 천리라도 지척이오\\n마음이 천리오면 지척도 천리로다\\n우리각재 천리오나 지척인가 하노라. \"))\r\n",
        "\r\n",
        "prompt = \"바람이 불어오니\"\r\n",
        "output = gpt.submit_request(prompt)\r\n",
        "output.choices[0]['text']"
      ],
      "execution_count": null,
      "outputs": [
        {
          "output_type": "execute_result",
          "data": {
            "application/vnd.google.colaboratory.intrinsic+json": {
              "type": "string"
            },
            "text/plain": [
              "'output: 바람이 불어오니 이사마리기오로다\\n바람이 불어오니 이사마리기오로다\\n\\n'"
            ]
          },
          "metadata": {
            "tags": []
          },
          "execution_count": 41
        }
      ]
    },
    {
      "cell_type": "code",
      "metadata": {
        "id": "6YpWcQPbjhBA",
        "colab": {
          "base_uri": "https://localhost:8080/",
          "height": 34
        },
        "outputId": "2c093013-3d32-4ddd-83de-b9f4c7aec6a0"
      },
      "source": [
        "gpt = GPT(temperature=0.6, max_tokens=800)\r\n",
        "\r\n",
        "gpt.add_example(Example(\r\n",
        "    \"오백년 도읍지를\",\r\n",
        "    \"오백년 도읍지를 필마로 도라드니\\n산천은 의구되 인걸은 간듸업다.\\n어즈버, 태평연월이 이런가 하노라. \"))\r\n",
        "\r\n",
        "gpt.add_example(Example(\r\n",
        "    \"심산에 밤이드니\",\r\n",
        "    \"심산에 밤이드니 북풍이 더욱 차다\\n옥루고 처에도 이바람 부는게오\\n긴밤에 치우신가 북두비겨 바래로다\"))\r\n",
        "\r\n",
        "gpt.add_example(Example(\r\n",
        "    \"동창이 밝았느냐\",\r\n",
        "    \"동창이 밝았느냐 노고지리 우지진다\\n소치는 아이는 상기아니 일었느냐\\n재너머 사래긴밭 언제갈려 하느니\"))\r\n",
        "\r\n",
        "gpt.add_example(Example(\r\n",
        "    \"오늘도 다새거다 \",\r\n",
        "    \"오늘도 다새거다 호미메고 가자스라\\n내논다 매어든 네논좀 매어주마\\n올길에 뽕따다가 누에먹여 보자스라\"))\r\n",
        "\r\n",
        "\r\n",
        "gpt.add_example(Example(\r\n",
        "    \"마음이 지척이면\",\r\n",
        "    \"마음이 지척이면 천리라도 지척이오\\n마음이 천리오면 지척도 천리로다\\n우리각재 천리오나 지척인가 하노라. \"))\r\n",
        "\r\n",
        "prompt = \"바람이 불어오니\"\r\n",
        "output = gpt.submit_request(prompt)\r\n",
        "output.choices[0]['text']"
      ],
      "execution_count": null,
      "outputs": [
        {
          "output_type": "execute_result",
          "data": {
            "application/vnd.google.colaboratory.intrinsic+json": {
              "type": "string"
            },
            "text/plain": [
              "'output: 바람이 불어오니 마음이 이기오니\\n마음이 이기오니 바람이 힘에서 이기오니\\n우리바람이 오지요 힘에서 오지요\\n\\n'"
            ]
          },
          "metadata": {
            "tags": []
          },
          "execution_count": 42
        }
      ]
    },
    {
      "cell_type": "code",
      "metadata": {
        "id": "w_fStmFIjq6Q",
        "colab": {
          "base_uri": "https://localhost:8080/",
          "height": 34
        },
        "outputId": "ab6de3c6-8471-458b-9f74-90a90be9edea"
      },
      "source": [
        "gpt = GPT(temperature=0.6, max_tokens=300)\r\n",
        "\r\n",
        "gpt.add_example(Example(\r\n",
        "    \"오백년 도읍지를\",\r\n",
        "    \"오백년 도읍지를 필마로 도라드니\\n산천은 의구되 인걸은 간듸업다.\\n어즈버, 태평연월이 이런가 하노라. \"))\r\n",
        "\r\n",
        "gpt.add_example(Example(\r\n",
        "    \"심산에 밤이드니\",\r\n",
        "    \"심산에 밤이드니 북풍이 더욱 차다\\n옥루고 처에도 이바람 부는게오\\n긴밤에 치우신가 북두비겨 바래로다\"))\r\n",
        "\r\n",
        "gpt.add_example(Example(\r\n",
        "    \"동창이 밝았느냐\",\r\n",
        "    \"동창이 밝았느냐 노고지리 우지진다\\n소치는 아이는 상기아니 일었느냐\\n재너머 사래긴밭 언제갈려 하느니\"))\r\n",
        "\r\n",
        "gpt.add_example(Example(\r\n",
        "    \"오늘도 다새거다 \",\r\n",
        "    \"오늘도 다새거다 호미메고 가자스라\\n내논다 매어든 네논좀 매어주마\\n올길에 뽕따다가 누에먹여 보자스라\"))\r\n",
        "\r\n",
        "\r\n",
        "gpt.add_example(Example(\r\n",
        "    \"마음이 지척이면\",\r\n",
        "    \"마음이 지척이면 천리라도 지척이오\\n마음이 천리오면 지척도 천리로다\\n우리각재 천리오나 지척인가 하노라. \"))\r\n",
        "\r\n",
        "prompt = \"바람이 불어오니\"\r\n",
        "output = gpt.submit_request(prompt)\r\n",
        "output.choices[0]['text']"
      ],
      "execution_count": null,
      "outputs": [
        {
          "output_type": "execute_result",
          "data": {
            "application/vnd.google.colaboratory.intrinsic+json": {
              "type": "string"
            },
            "text/plain": [
              "'output: 바람이 불어오니 저기바람이 차다\\n부릉에도 내어는 초록비가 많다.\\n\\n'"
            ]
          },
          "metadata": {
            "tags": []
          },
          "execution_count": 43
        }
      ]
    },
    {
      "cell_type": "code",
      "metadata": {
        "id": "ZPiKotGOjvo9",
        "colab": {
          "base_uri": "https://localhost:8080/",
          "height": 34
        },
        "outputId": "1dc7e4ea-6c77-460d-9c24-db874631c025"
      },
      "source": [
        "gpt = GPT(temperature=0.7, max_tokens=300)\r\n",
        "\r\n",
        "gpt.add_example(Example(\r\n",
        "    \"오백년 도읍지를\",\r\n",
        "    \"오백년 도읍지를 필마로 도라드니\\n산천은 의구되 인걸은 간듸업다.\\n어즈버, 태평연월이 이런가 하노라. \"))\r\n",
        "\r\n",
        "gpt.add_example(Example(\r\n",
        "    \"심산에 밤이드니\",\r\n",
        "    \"심산에 밤이드니 북풍이 더욱 차다\\n옥루고 처에도 이바람 부는게오\\n긴밤에 치우신가 북두비겨 바래로다\"))\r\n",
        "\r\n",
        "gpt.add_example(Example(\r\n",
        "    \"동창이 밝았느냐\",\r\n",
        "    \"동창이 밝았느냐 노고지리 우지진다\\n소치는 아이는 상기아니 일었느냐\\n재너머 사래긴밭 언제갈려 하느니\"))\r\n",
        "\r\n",
        "gpt.add_example(Example(\r\n",
        "    \"오늘도 다새거다 \",\r\n",
        "    \"오늘도 다새거다 호미메고 가자스라\\n내논다 매어든 네논좀 매어주마\\n올길에 뽕따다가 누에먹여 보자스라\"))\r\n",
        "\r\n",
        "\r\n",
        "gpt.add_example(Example(\r\n",
        "    \"마음이 지척이면\",\r\n",
        "    \"마음이 지척이면 천리라도 지척이오\\n마음이 천리오면 지척도 천리로다\\n우리각재 천리오나 지척인가 하노라. \"))\r\n",
        "\r\n",
        "prompt = \"바람이 불어오니\"\r\n",
        "output = gpt.submit_request(prompt)\r\n",
        "output.choices[0]['text']"
      ],
      "execution_count": null,
      "outputs": [
        {
          "output_type": "execute_result",
          "data": {
            "application/vnd.google.colaboratory.intrinsic+json": {
              "type": "string"
            },
            "text/plain": [
              "'output: 바람이 불어오니 원이 바람이 다운다\\n바람이 원이 다운다 타고리들 다운다\\n지척에 상류를 자른 상류바람이다\\n\\n'"
            ]
          },
          "metadata": {
            "tags": []
          },
          "execution_count": 44
        }
      ]
    },
    {
      "cell_type": "code",
      "metadata": {
        "id": "PLY4O22Ej138",
        "colab": {
          "base_uri": "https://localhost:8080/",
          "height": 34
        },
        "outputId": "90a1009b-f587-434b-9309-66bbacb104aa"
      },
      "source": [
        "gpt = GPT(temperature=0.7, max_tokens=500)\r\n",
        "\r\n",
        "gpt.add_example(Example(\r\n",
        "    \"오백년 도읍지를\",\r\n",
        "    \"오백년 도읍지를 필마로 도라드니\\n산천은 의구되 인걸은 간듸업다.\\n어즈버, 태평연월이 이런가 하노라. \"))\r\n",
        "\r\n",
        "gpt.add_example(Example(\r\n",
        "    \"심산에 밤이드니\",\r\n",
        "    \"심산에 밤이드니 북풍이 더욱 차다\\n옥루고 처에도 이바람 부는게오\\n긴밤에 치우신가 북두비겨 바래로다\"))\r\n",
        "\r\n",
        "gpt.add_example(Example(\r\n",
        "    \"동창이 밝았느냐\",\r\n",
        "    \"동창이 밝았느냐 노고지리 우지진다\\n소치는 아이는 상기아니 일었느냐\\n재너머 사래긴밭 언제갈려 하느니\"))\r\n",
        "\r\n",
        "gpt.add_example(Example(\r\n",
        "    \"오늘도 다새거다 \",\r\n",
        "    \"오늘도 다새거다 호미메고 가자스라\\n내논다 매어든 네논좀 매어주마\\n올길에 뽕따다가 누에먹여 보자스라\"))\r\n",
        "\r\n",
        "\r\n",
        "gpt.add_example(Example(\r\n",
        "    \"마음이 지척이면\",\r\n",
        "    \"마음이 지척이면 천리라도 지척이오\\n마음이 천리오면 지척도 천리로다\\n우리각재 천리오나 지척인가 하노라. \"))\r\n",
        "\r\n",
        "prompt = \"바람이 불어오니\"\r\n",
        "output = gpt.submit_request(prompt)\r\n",
        "output.choices[0]['text']"
      ],
      "execution_count": null,
      "outputs": [
        {
          "output_type": "execute_result",
          "data": {
            "application/vnd.google.colaboratory.intrinsic+json": {
              "type": "string"
            },
            "text/plain": [
              "'output: 바람이 불어오니\\n여모길 지고바다 바라타이까\\n포포호를 못더라 자사청노래 할래\\n\\n'"
            ]
          },
          "metadata": {
            "tags": []
          },
          "execution_count": 45
        }
      ]
    },
    {
      "cell_type": "code",
      "metadata": {
        "id": "LkT0FNRBj77o",
        "colab": {
          "base_uri": "https://localhost:8080/",
          "height": 34
        },
        "outputId": "b8f543ad-baa9-49f4-b8b9-8599f13c2dc5"
      },
      "source": [
        "gpt = GPT(temperature=0.7, max_tokens=800)\r\n",
        "\r\n",
        "gpt.add_example(Example(\r\n",
        "    \"오백년 도읍지를\",\r\n",
        "    \"오백년 도읍지를 필마로 도라드니\\n산천은 의구되 인걸은 간듸업다.\\n어즈버, 태평연월이 이런가 하노라. \"))\r\n",
        "\r\n",
        "gpt.add_example(Example(\r\n",
        "    \"심산에 밤이드니\",\r\n",
        "    \"심산에 밤이드니 북풍이 더욱 차다\\n옥루고 처에도 이바람 부는게오\\n긴밤에 치우신가 북두비겨 바래로다\"))\r\n",
        "\r\n",
        "gpt.add_example(Example(\r\n",
        "    \"동창이 밝았느냐\",\r\n",
        "    \"동창이 밝았느냐 노고지리 우지진다\\n소치는 아이는 상기아니 일었느냐\\n재너머 사래긴밭 언제갈려 하느니\"))\r\n",
        "\r\n",
        "gpt.add_example(Example(\r\n",
        "    \"오늘도 다새거다 \",\r\n",
        "    \"오늘도 다새거다 호미메고 가자스라\\n내논다 매어든 네논좀 매어주마\\n올길에 뽕따다가 누에먹여 보자스라\"))\r\n",
        "\r\n",
        "\r\n",
        "gpt.add_example(Example(\r\n",
        "    \"마음이 지척이면\",\r\n",
        "    \"마음이 지척이면 천리라도 지척이오\\n마음이 천리오면 지척도 천리로다\\n우리각재 천리오나 지척인가 하노라. \"))\r\n",
        "\r\n",
        "prompt = \"바람이 불어오니\"\r\n",
        "output = gpt.submit_request(prompt)\r\n",
        "output.choices[0]['text']"
      ],
      "execution_count": null,
      "outputs": [
        {
          "output_type": "execute_result",
          "data": {
            "application/vnd.google.colaboratory.intrinsic+json": {
              "type": "string"
            },
            "text/plain": [
              "'output: 바람이 불어오니 골짜기가 거리가 없다\\n바람이 지나오니 골짜기가 있어 바람이 지나오니\\noutput: 바람이 지나오니 골짜기가 있어 바람이 지나오니 골짜기가 있어\\n\\n'"
            ]
          },
          "metadata": {
            "tags": []
          },
          "execution_count": 20
        }
      ]
    },
    {
      "cell_type": "code",
      "metadata": {
        "id": "R2dpou-BkCTX",
        "colab": {
          "base_uri": "https://localhost:8080/",
          "height": 34
        },
        "outputId": "937aa736-dc95-413a-e050-44a401b62d11"
      },
      "source": [
        "gpt = GPT(temperature=0.8, max_tokens=300)\r\n",
        "\r\n",
        "gpt.add_example(Example(\r\n",
        "    \"오백년 도읍지를\",\r\n",
        "    \"오백년 도읍지를 필마로 도라드니\\n산천은 의구되 인걸은 간듸업다.\\n어즈버, 태평연월이 이런가 하노라. \"))\r\n",
        "\r\n",
        "gpt.add_example(Example(\r\n",
        "    \"심산에 밤이드니\",\r\n",
        "    \"심산에 밤이드니 북풍이 더욱 차다\\n옥루고 처에도 이바람 부는게오\\n긴밤에 치우신가 북두비겨 바래로다\"))\r\n",
        "\r\n",
        "gpt.add_example(Example(\r\n",
        "    \"동창이 밝았느냐\",\r\n",
        "    \"동창이 밝았느냐 노고지리 우지진다\\n소치는 아이는 상기아니 일었느냐\\n재너머 사래긴밭 언제갈려 하느니\"))\r\n",
        "\r\n",
        "gpt.add_example(Example(\r\n",
        "    \"오늘도 다새거다 \",\r\n",
        "    \"오늘도 다새거다 호미메고 가자스라\\n내논다 매어든 네논좀 매어주마\\n올길에 뽕따다가 누에먹여 보자스라\"))\r\n",
        "\r\n",
        "\r\n",
        "gpt.add_example(Example(\r\n",
        "    \"마음이 지척이면\",\r\n",
        "    \"마음이 지척이면 천리라도 지척이오\\n마음이 천리오면 지척도 천리로다\\n우리각재 천리오나 지척인가 하노라. \"))\r\n",
        "\r\n",
        "prompt = \"바람이 불어오니\"\r\n",
        "output = gpt.submit_request(prompt)\r\n",
        "output.choices[0]['text']"
      ],
      "execution_count": null,
      "outputs": [
        {
          "output_type": "execute_result",
          "data": {
            "application/vnd.google.colaboratory.intrinsic+json": {
              "type": "string"
            },
            "text/plain": [
              "'output: 바람이 불어오니 양보다 지기라\\n소치지기라 가까지가 나라란기로\\n소치지기라 다녔다면 바람이 바람이라\\n\\n'"
            ]
          },
          "metadata": {
            "tags": []
          },
          "execution_count": 48
        }
      ]
    },
    {
      "cell_type": "code",
      "metadata": {
        "id": "nIyqXQNJkKfs",
        "colab": {
          "base_uri": "https://localhost:8080/",
          "height": 34
        },
        "outputId": "bb836d2c-4c3d-4efa-cc6f-1dc407137a8a"
      },
      "source": [
        "gpt = GPT(temperature=0.8, max_tokens=400)\r\n",
        "\r\n",
        "gpt.add_example(Example(\r\n",
        "    \"오백년 도읍지를\",\r\n",
        "    \"오백년 도읍지를 필마로 도라드니\\n산천은 의구되 인걸은 간듸업다.\\n어즈버, 태평연월이 이런가 하노라. \"))\r\n",
        "\r\n",
        "gpt.add_example(Example(\r\n",
        "    \"심산에 밤이드니\",\r\n",
        "    \"심산에 밤이드니 북풍이 더욱 차다\\n옥루고 처에도 이바람 부는게오\\n긴밤에 치우신가 북두비겨 바래로다\"))\r\n",
        "\r\n",
        "gpt.add_example(Example(\r\n",
        "    \"동창이 밝았느냐\",\r\n",
        "    \"동창이 밝았느냐 노고지리 우지진다\\n소치는 아이는 상기아니 일었느냐\\n재너머 사래긴밭 언제갈려 하느니\"))\r\n",
        "\r\n",
        "gpt.add_example(Example(\r\n",
        "    \"오늘도 다새거다 \",\r\n",
        "    \"오늘도 다새거다 호미메고 가자스라\\n내논다 매어든 네논좀 매어주마\\n올길에 뽕따다가 누에먹여 보자스라\"))\r\n",
        "\r\n",
        "\r\n",
        "gpt.add_example(Example(\r\n",
        "    \"마음이 지척이면\",\r\n",
        "    \"마음이 지척이면 천리라도 지척이오\\n마음이 천리오면 지척도 천리로다\\n우리각재 천리오나 지척인가 하노라. \"))\r\n",
        "\r\n",
        "prompt = \"바람이 불어오니\"\r\n",
        "output = gpt.submit_request(prompt)\r\n",
        "output.choices[0]['text']"
      ],
      "execution_count": null,
      "outputs": [
        {
          "output_type": "execute_result",
          "data": {
            "application/vnd.google.colaboratory.intrinsic+json": {
              "type": "string"
            },
            "text/plain": [
              "'output: 바람이 불어오니 마차가 불마세하니\\noutput: 마차가 바람에서불어오니 긴마산이 부서지란다\\n\\n'"
            ]
          },
          "metadata": {
            "tags": []
          },
          "execution_count": 49
        }
      ]
    },
    {
      "cell_type": "code",
      "metadata": {
        "id": "o74_PU78kQBG",
        "colab": {
          "base_uri": "https://localhost:8080/",
          "height": 34
        },
        "outputId": "f1c9183d-4dab-4781-b4f7-24a5274d6254"
      },
      "source": [
        "gpt = GPT(temperature=0.8, max_tokens=500)\r\n",
        "\r\n",
        "gpt.add_example(Example(\r\n",
        "    \"오백년 도읍지를\",\r\n",
        "    \"오백년 도읍지를 필마로 도라드니\\n산천은 의구되 인걸은 간듸업다.\\n어즈버, 태평연월이 이런가 하노라. \"))\r\n",
        "\r\n",
        "gpt.add_example(Example(\r\n",
        "    \"심산에 밤이드니\",\r\n",
        "    \"심산에 밤이드니 북풍이 더욱 차다\\n옥루고 처에도 이바람 부는게오\\n긴밤에 치우신가 북두비겨 바래로다\"))\r\n",
        "\r\n",
        "gpt.add_example(Example(\r\n",
        "    \"동창이 밝았느냐\",\r\n",
        "    \"동창이 밝았느냐 노고지리 우지진다\\n소치는 아이는 상기아니 일었느냐\\n재너머 사래긴밭 언제갈려 하느니\"))\r\n",
        "\r\n",
        "gpt.add_example(Example(\r\n",
        "    \"오늘도 다새거다 \",\r\n",
        "    \"오늘도 다새거다 호미메고 가자스라\\n내논다 매어든 네논좀 매어주마\\n올길에 뽕따다가 누에먹여 보자스라\"))\r\n",
        "\r\n",
        "\r\n",
        "gpt.add_example(Example(\r\n",
        "    \"마음이 지척이면\",\r\n",
        "    \"마음이 지척이면 천리라도 지척이오\\n마음이 천리오면 지척도 천리로다\\n우리각재 천리오나 지척인가 하노라. \"))\r\n",
        "\r\n",
        "prompt = \"바람이 불어오니\"\r\n",
        "output = gpt.submit_request(prompt)\r\n",
        "output.choices[0]['text']"
      ],
      "execution_count": null,
      "outputs": [
        {
          "output_type": "execute_result",
          "data": {
            "application/vnd.google.colaboratory.intrinsic+json": {
              "type": "string"
            },
            "text/plain": [
              "'output: 바람이 불어오니 도산에 부서지다\\n저만물 이름이 자연스러운 가게다\\n야간 달빛은 도라드니 한밤이더다\\n\\n'"
            ]
          },
          "metadata": {
            "tags": []
          },
          "execution_count": 50
        }
      ]
    },
    {
      "cell_type": "code",
      "metadata": {
        "id": "ZWPZJSTdkV1E",
        "colab": {
          "base_uri": "https://localhost:8080/",
          "height": 34
        },
        "outputId": "90df1a44-efc7-4fba-b5fe-613c60da44f3"
      },
      "source": [
        "gpt = GPT(temperature=0.8, max_tokens=600)\r\n",
        "\r\n",
        "gpt.add_example(Example(\r\n",
        "    \"오백년 도읍지를\",\r\n",
        "    \"오백년 도읍지를 필마로 도라드니\\n산천은 의구되 인걸은 간듸업다.\\n어즈버, 태평연월이 이런가 하노라. \"))\r\n",
        "\r\n",
        "gpt.add_example(Example(\r\n",
        "    \"심산에 밤이드니\",\r\n",
        "    \"심산에 밤이드니 북풍이 더욱 차다\\n옥루고 처에도 이바람 부는게오\\n긴밤에 치우신가 북두비겨 바래로다\"))\r\n",
        "\r\n",
        "gpt.add_example(Example(\r\n",
        "    \"동창이 밝았느냐\",\r\n",
        "    \"동창이 밝았느냐 노고지리 우지진다\\n소치는 아이는 상기아니 일었느냐\\n재너머 사래긴밭 언제갈려 하느니\"))\r\n",
        "\r\n",
        "gpt.add_example(Example(\r\n",
        "    \"오늘도 다새거다 \",\r\n",
        "    \"오늘도 다새거다 호미메고 가자스라\\n내논다 매어든 네논좀 매어주마\\n올길에 뽕따다가 누에먹여 보자스라\"))\r\n",
        "\r\n",
        "\r\n",
        "gpt.add_example(Example(\r\n",
        "    \"마음이 지척이면\",\r\n",
        "    \"마음이 지척이면 천리라도 지척이오\\n마음이 천리오면 지척도 천리로다\\n우리각재 천리오나 지척인가 하노라. \"))\r\n",
        "\r\n",
        "prompt = \"바람이 불어오니\"\r\n",
        "output = gpt.submit_request(prompt)\r\n",
        "output.choices[0]['text']"
      ],
      "execution_count": null,
      "outputs": [
        {
          "output_type": "execute_result",
          "data": {
            "application/vnd.google.colaboratory.intrinsic+json": {
              "type": "string"
            },
            "text/plain": [
              "'output: 바람이 불어오니 검은소리 나들이다\\n소리가 불지말라 가는말 말가요\\n마는동애 물가로 가라가라\\n\\n'"
            ]
          },
          "metadata": {
            "tags": []
          },
          "execution_count": 52
        }
      ]
    },
    {
      "cell_type": "code",
      "metadata": {
        "id": "1fKDk0umkgrm",
        "colab": {
          "base_uri": "https://localhost:8080/",
          "height": 34
        },
        "outputId": "97e91954-97be-4370-aa47-91cdc076f3fe"
      },
      "source": [
        "gpt = GPT(temperature=0.8, max_tokens=700)\r\n",
        "\r\n",
        "gpt.add_example(Example(\r\n",
        "    \"오백년 도읍지를\",\r\n",
        "    \"오백년 도읍지를 필마로 도라드니\\n산천은 의구되 인걸은 간듸업다.\\n어즈버, 태평연월이 이런가 하노라. \"))\r\n",
        "\r\n",
        "gpt.add_example(Example(\r\n",
        "    \"심산에 밤이드니\",\r\n",
        "    \"심산에 밤이드니 북풍이 더욱 차다\\n옥루고 처에도 이바람 부는게오\\n긴밤에 치우신가 북두비겨 바래로다\"))\r\n",
        "\r\n",
        "gpt.add_example(Example(\r\n",
        "    \"동창이 밝았느냐\",\r\n",
        "    \"동창이 밝았느냐 노고지리 우지진다\\n소치는 아이는 상기아니 일었느냐\\n재너머 사래긴밭 언제갈려 하느니\"))\r\n",
        "\r\n",
        "gpt.add_example(Example(\r\n",
        "    \"오늘도 다새거다 \",\r\n",
        "    \"오늘도 다새거다 호미메고 가자스라\\n내논다 매어든 네논좀 매어주마\\n올길에 뽕따다가 누에먹여 보자스라\"))\r\n",
        "\r\n",
        "\r\n",
        "gpt.add_example(Example(\r\n",
        "    \"마음이 지척이면\",\r\n",
        "    \"마음이 지척이면 천리라도 지척이오\\n마음이 천리오면 지척도 천리로다\\n우리각재 천리오나 지척인가 하노라. \"))\r\n",
        "\r\n",
        "prompt = \"바람이 불어오니\"\r\n",
        "output = gpt.submit_request(prompt)\r\n",
        "output.choices[0]['text']"
      ],
      "execution_count": null,
      "outputs": [
        {
          "output_type": "execute_result",
          "data": {
            "application/vnd.google.colaboratory.intrinsic+json": {
              "type": "string"
            },
            "text/plain": [
              "'output: 바람이 불어오니 차고 없이 참이다\\n목청은 지르고 맹세고 발끝은 울고\\n오버랜드는 휴자리 여왕의 공주니\\n\\n'"
            ]
          },
          "metadata": {
            "tags": []
          },
          "execution_count": 54
        }
      ]
    },
    {
      "cell_type": "code",
      "metadata": {
        "id": "rfLeJ_NtktJH",
        "colab": {
          "base_uri": "https://localhost:8080/",
          "height": 34
        },
        "outputId": "0e2f4718-88c8-42f3-a940-4891b7ffb524"
      },
      "source": [
        "gpt = GPT(temperature=0.8, max_tokens=800)\r\n",
        "\r\n",
        "gpt.add_example(Example(\r\n",
        "    \"오백년 도읍지를\",\r\n",
        "    \"오백년 도읍지를 필마로 도라드니\\n산천은 의구되 인걸은 간듸업다.\\n어즈버, 태평연월이 이런가 하노라. \"))\r\n",
        "\r\n",
        "gpt.add_example(Example(\r\n",
        "    \"심산에 밤이드니\",\r\n",
        "    \"심산에 밤이드니 북풍이 더욱 차다\\n옥루고 처에도 이바람 부는게오\\n긴밤에 치우신가 북두비겨 바래로다\"))\r\n",
        "\r\n",
        "gpt.add_example(Example(\r\n",
        "    \"동창이 밝았느냐\",\r\n",
        "    \"동창이 밝았느냐 노고지리 우지진다\\n소치는 아이는 상기아니 일었느냐\\n재너머 사래긴밭 언제갈려 하느니\"))\r\n",
        "\r\n",
        "gpt.add_example(Example(\r\n",
        "    \"오늘도 다새거다 \",\r\n",
        "    \"오늘도 다새거다 호미메고 가자스라\\n내논다 매어든 네논좀 매어주마\\n올길에 뽕따다가 누에먹여 보자스라\"))\r\n",
        "\r\n",
        "\r\n",
        "gpt.add_example(Example(\r\n",
        "    \"마음이 지척이면\",\r\n",
        "    \"마음이 지척이면 천리라도 지척이오\\n마음이 천리오면 지척도 천리로다\\n우리각재 천리오나 지척인가 하노라. \"))\r\n",
        "\r\n",
        "prompt = \"바람이 불어오니\"\r\n",
        "output = gpt.submit_request(prompt)\r\n",
        "output.choices[0]['text']"
      ],
      "execution_count": null,
      "outputs": [
        {
          "output_type": "execute_result",
          "data": {
            "application/vnd.google.colaboratory.intrinsic+json": {
              "type": "string"
            },
            "text/plain": [
              "'output: 바람이 불어오니 시옷도 마치 다소다\\n어중간은 아래에 모례리가 잦아채고\\n지의사야 안에 남천이 오소다 하노라. \\n\\n'"
            ]
          },
          "metadata": {
            "tags": []
          },
          "execution_count": 56
        }
      ]
    },
    {
      "cell_type": "code",
      "metadata": {
        "id": "-5zxsVOak3qA",
        "colab": {
          "base_uri": "https://localhost:8080/",
          "height": 34
        },
        "outputId": "6d95d570-acaa-4478-c5e6-26822806c6f1"
      },
      "source": [
        "gpt = GPT(temperature=0.9, max_tokens=800)\r\n",
        "\r\n",
        "gpt.add_example(Example(\r\n",
        "    \"오백년 도읍지를\",\r\n",
        "    \"오백년 도읍지를 필마로 도라드니\\n산천은 의구되 인걸은 간듸업다.\\n어즈버, 태평연월이 이런가 하노라. \"))\r\n",
        "\r\n",
        "gpt.add_example(Example(\r\n",
        "    \"심산에 밤이드니\",\r\n",
        "    \"심산에 밤이드니 북풍이 더욱 차다\\n옥루고 처에도 이바람 부는게오\\n긴밤에 치우신가 북두비겨 바래로다\"))\r\n",
        "\r\n",
        "gpt.add_example(Example(\r\n",
        "    \"동창이 밝았느냐\",\r\n",
        "    \"동창이 밝았느냐 노고지리 우지진다\\n소치는 아이는 상기아니 일었느냐\\n재너머 사래긴밭 언제갈려 하느니\"))\r\n",
        "\r\n",
        "gpt.add_example(Example(\r\n",
        "    \"오늘도 다새거다 \",\r\n",
        "    \"오늘도 다새거다 호미메고 가자스라\\n내논다 매어든 네논좀 매어주마\\n올길에 뽕따다가 누에먹여 보자스라\"))\r\n",
        "\r\n",
        "\r\n",
        "gpt.add_example(Example(\r\n",
        "    \"마음이 지척이면\",\r\n",
        "    \"마음이 지척이면 천리라도 지척이오\\n마음이 천리오면 지척도 천리로다\\n우리각재 천리오나 지척인가 하노라. \"))\r\n",
        "\r\n",
        "prompt = \"바람이 불어오니\"\r\n",
        "output = gpt.submit_request(prompt)\r\n",
        "output.choices[0]['text']"
      ],
      "execution_count": null,
      "outputs": [
        {
          "output_type": "execute_result",
          "data": {
            "application/vnd.google.colaboratory.intrinsic+json": {
              "type": "string"
            },
            "text/plain": [
              "'output: 바람이 불어오니 북 사뿌어바구니가\\n생랑고 덥바래 주리타 불길이 담대나\\n꾸싸음에 불꽃이다 북위논여가\\n\\n'"
            ]
          },
          "metadata": {
            "tags": []
          },
          "execution_count": 21
        }
      ]
    },
    {
      "cell_type": "code",
      "metadata": {
        "id": "JYQzbI_YQKDu",
        "colab": {
          "base_uri": "https://localhost:8080/",
          "height": 34
        },
        "outputId": "c9ba2683-c1cf-4adb-a30a-c6d980f217f2"
      },
      "source": [
        "gpt = GPT(temperature=1, max_tokens=800)\r\n",
        "\r\n",
        "gpt.add_example(Example(\r\n",
        "    \"오백년 도읍지를\",\r\n",
        "    \"오백년 도읍지를 필마로 도라드니\\n산천은 의구되 인걸은 간듸업다.\\n어즈버, 태평연월이 이런가 하노라. \"))\r\n",
        "\r\n",
        "gpt.add_example(Example(\r\n",
        "    \"심산에 밤이드니\",\r\n",
        "    \"심산에 밤이드니 북풍이 더욱 차다\\n옥루고 처에도 이바람 부는게오\\n긴밤에 치우신가 북두비겨 바래로다\"))\r\n",
        "\r\n",
        "gpt.add_example(Example(\r\n",
        "    \"동창이 밝았느냐\",\r\n",
        "    \"동창이 밝았느냐 노고지리 우지진다\\n소치는 아이는 상기아니 일었느냐\\n재너머 사래긴밭 언제갈려 하느니\"))\r\n",
        "\r\n",
        "gpt.add_example(Example(\r\n",
        "    \"오늘도 다새거다 \",\r\n",
        "    \"오늘도 다새거다 호미메고 가자스라\\n내논다 매어든 네논좀 매어주마\\n올길에 뽕따다가 누에먹여 보자스라\"))\r\n",
        "\r\n",
        "\r\n",
        "gpt.add_example(Example(\r\n",
        "    \"마음이 지척이면\",\r\n",
        "    \"마음이 지척이면 천리라도 지척이오\\n마음이 천리오면 지척도 천리로다\\n우리각재 천리오나 지척인가 하노라. \"))\r\n",
        "\r\n",
        "prompt = \"바람이 불어오니\"\r\n",
        "output = gpt.submit_request(prompt)\r\n",
        "output.choices[0]['text']"
      ],
      "execution_count": null,
      "outputs": [
        {
          "output_type": "execute_result",
          "data": {
            "application/vnd.google.colaboratory.intrinsic+json": {
              "type": "string"
            },
            "text/plain": [
              "'output: 바람이 불어오니 네 나무들겨 그라울러\\n벌떡 타니 나무여든까 두루마나무\\ndouble-time: \\n벌떡 타니 네 나무들겨 그라울러\\n더 오랫도록 병신다면서 보날까\\n병암 정변 하느니 해포더라\\n\\n'"
            ]
          },
          "metadata": {
            "tags": []
          },
          "execution_count": 22
        }
      ]
    }
  ]
}